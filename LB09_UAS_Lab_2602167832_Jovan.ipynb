{
 "cells": [
  {
   "cell_type": "markdown",
   "metadata": {},
   "source": [
    "**Dengan ini, saya yang bernama Jovan Samuel Hendra dengan NIM 2602167832, dengan sungguh-sungguh berjanji bahwa file yang saya submit adalah hasil karya saya sendiri dan bukan merupakan salinan dari pekerjaan teman saya.**"
   ]
  },
  {
   "cell_type": "markdown",
   "metadata": {},
   "source": [
    "# a)"
   ]
  },
  {
   "cell_type": "markdown",
   "metadata": {},
   "source": [
    "1a. the machine learning model that is best suited for classifying characteristic in this case is going to be the clustering model"
   ]
  },
  {
   "cell_type": "markdown",
   "metadata": {},
   "source": [
    "# b) c)"
   ]
  },
  {
   "cell_type": "code",
   "execution_count": 1,
   "metadata": {},
   "outputs": [],
   "source": [
    "import pandas as pd\n",
    "import numpy as np\n",
    "import matplotlib.pyplot as plt"
   ]
  },
  {
   "cell_type": "code",
   "execution_count": 2,
   "metadata": {},
   "outputs": [],
   "source": [
    "df = pd.read_csv(\"Global_Education_Dataset_UAS.csv\")"
   ]
  },
  {
   "cell_type": "code",
   "execution_count": 3,
   "metadata": {},
   "outputs": [
    {
     "data": {
      "text/html": [
       "<div>\n",
       "<style scoped>\n",
       "    .dataframe tbody tr th:only-of-type {\n",
       "        vertical-align: middle;\n",
       "    }\n",
       "\n",
       "    .dataframe tbody tr th {\n",
       "        vertical-align: top;\n",
       "    }\n",
       "\n",
       "    .dataframe thead th {\n",
       "        text-align: right;\n",
       "    }\n",
       "</style>\n",
       "<table border=\"1\" class=\"dataframe\">\n",
       "  <thead>\n",
       "    <tr style=\"text-align: right;\">\n",
       "      <th></th>\n",
       "      <th>Countries and areas</th>\n",
       "      <th>Latitude</th>\n",
       "      <th>Longitude</th>\n",
       "      <th>OOSR_Pre0Primary_Age_Male</th>\n",
       "      <th>OOSR_Pre0Primary_Age_Female</th>\n",
       "      <th>OOSR_Primary_Age_Male</th>\n",
       "      <th>OOSR_Primary_Age_Female</th>\n",
       "      <th>OOSR_Lower_Secondary_Age_Male</th>\n",
       "      <th>OOSR_Lower_Secondary_Age_Female</th>\n",
       "      <th>OOSR_Upper_Secondary_Age_Male</th>\n",
       "      <th>...</th>\n",
       "      <th>Primary_End_Proficiency_Reading</th>\n",
       "      <th>Primary_End_Proficiency_Math</th>\n",
       "      <th>Lower_Secondary_End_Proficiency_Reading</th>\n",
       "      <th>Lower_Secondary_End_Proficiency_Math</th>\n",
       "      <th>Youth_15_24_Literacy_Rate_Male</th>\n",
       "      <th>Youth_15_24_Literacy_Rate_Female</th>\n",
       "      <th>Birth_Rate</th>\n",
       "      <th>Gross_Primary_Education_Enrollment</th>\n",
       "      <th>Gross_Tertiary_Education_Enrollment</th>\n",
       "      <th>Unemployment_Rate</th>\n",
       "    </tr>\n",
       "  </thead>\n",
       "  <tbody>\n",
       "    <tr>\n",
       "      <th>0</th>\n",
       "      <td>Afghanistan</td>\n",
       "      <td>33.939110</td>\n",
       "      <td>67.709953</td>\n",
       "      <td>0</td>\n",
       "      <td>0</td>\n",
       "      <td>0</td>\n",
       "      <td>0</td>\n",
       "      <td>0</td>\n",
       "      <td>0</td>\n",
       "      <td>44</td>\n",
       "      <td>...</td>\n",
       "      <td>13</td>\n",
       "      <td>11</td>\n",
       "      <td>0</td>\n",
       "      <td>0</td>\n",
       "      <td>74</td>\n",
       "      <td>56</td>\n",
       "      <td>32.49</td>\n",
       "      <td>very high</td>\n",
       "      <td>extremely low</td>\n",
       "      <td>moderately low</td>\n",
       "    </tr>\n",
       "    <tr>\n",
       "      <th>1</th>\n",
       "      <td>Albania</td>\n",
       "      <td>41.153332</td>\n",
       "      <td>20.168331</td>\n",
       "      <td>4</td>\n",
       "      <td>2</td>\n",
       "      <td>6</td>\n",
       "      <td>3</td>\n",
       "      <td>6</td>\n",
       "      <td>1</td>\n",
       "      <td>21</td>\n",
       "      <td>...</td>\n",
       "      <td>0</td>\n",
       "      <td>0</td>\n",
       "      <td>48</td>\n",
       "      <td>58</td>\n",
       "      <td>99</td>\n",
       "      <td>100</td>\n",
       "      <td>11.78</td>\n",
       "      <td>very high</td>\n",
       "      <td>moderately low</td>\n",
       "      <td>moderate</td>\n",
       "    </tr>\n",
       "    <tr>\n",
       "      <th>2</th>\n",
       "      <td>Algeria</td>\n",
       "      <td>28.033886</td>\n",
       "      <td>1.659626</td>\n",
       "      <td>0</td>\n",
       "      <td>0</td>\n",
       "      <td>0</td>\n",
       "      <td>0</td>\n",
       "      <td>0</td>\n",
       "      <td>0</td>\n",
       "      <td>0</td>\n",
       "      <td>...</td>\n",
       "      <td>0</td>\n",
       "      <td>0</td>\n",
       "      <td>21</td>\n",
       "      <td>19</td>\n",
       "      <td>98</td>\n",
       "      <td>97</td>\n",
       "      <td>24.28</td>\n",
       "      <td>very high</td>\n",
       "      <td>moderately low</td>\n",
       "      <td>moderately low</td>\n",
       "    </tr>\n",
       "    <tr>\n",
       "      <th>3</th>\n",
       "      <td>Andorra</td>\n",
       "      <td>42.506285</td>\n",
       "      <td>1.521801</td>\n",
       "      <td>0</td>\n",
       "      <td>0</td>\n",
       "      <td>0</td>\n",
       "      <td>0</td>\n",
       "      <td>0</td>\n",
       "      <td>0</td>\n",
       "      <td>0</td>\n",
       "      <td>...</td>\n",
       "      <td>0</td>\n",
       "      <td>0</td>\n",
       "      <td>0</td>\n",
       "      <td>0</td>\n",
       "      <td>0</td>\n",
       "      <td>0</td>\n",
       "      <td>7.20</td>\n",
       "      <td>very high</td>\n",
       "      <td>extremely low</td>\n",
       "      <td>extremely low</td>\n",
       "    </tr>\n",
       "    <tr>\n",
       "      <th>4</th>\n",
       "      <td>Angola</td>\n",
       "      <td>11.202692</td>\n",
       "      <td>17.873887</td>\n",
       "      <td>31</td>\n",
       "      <td>39</td>\n",
       "      <td>0</td>\n",
       "      <td>0</td>\n",
       "      <td>0</td>\n",
       "      <td>0</td>\n",
       "      <td>0</td>\n",
       "      <td>...</td>\n",
       "      <td>0</td>\n",
       "      <td>0</td>\n",
       "      <td>0</td>\n",
       "      <td>0</td>\n",
       "      <td>0</td>\n",
       "      <td>0</td>\n",
       "      <td>40.73</td>\n",
       "      <td>very high</td>\n",
       "      <td>extremely low</td>\n",
       "      <td>low</td>\n",
       "    </tr>\n",
       "    <tr>\n",
       "      <th>...</th>\n",
       "      <td>...</td>\n",
       "      <td>...</td>\n",
       "      <td>...</td>\n",
       "      <td>...</td>\n",
       "      <td>...</td>\n",
       "      <td>...</td>\n",
       "      <td>...</td>\n",
       "      <td>...</td>\n",
       "      <td>...</td>\n",
       "      <td>...</td>\n",
       "      <td>...</td>\n",
       "      <td>...</td>\n",
       "      <td>...</td>\n",
       "      <td>...</td>\n",
       "      <td>...</td>\n",
       "      <td>...</td>\n",
       "      <td>...</td>\n",
       "      <td>...</td>\n",
       "      <td>...</td>\n",
       "      <td>...</td>\n",
       "      <td>...</td>\n",
       "    </tr>\n",
       "    <tr>\n",
       "      <th>197</th>\n",
       "      <td>Venezuela</td>\n",
       "      <td>6.423750</td>\n",
       "      <td>66.589730</td>\n",
       "      <td>14</td>\n",
       "      <td>14</td>\n",
       "      <td>10</td>\n",
       "      <td>10</td>\n",
       "      <td>15</td>\n",
       "      <td>13</td>\n",
       "      <td>28</td>\n",
       "      <td>...</td>\n",
       "      <td>0</td>\n",
       "      <td>0</td>\n",
       "      <td>0</td>\n",
       "      <td>0</td>\n",
       "      <td>0</td>\n",
       "      <td>0</td>\n",
       "      <td>17.88</td>\n",
       "      <td>high</td>\n",
       "      <td>moderately high</td>\n",
       "      <td>low</td>\n",
       "    </tr>\n",
       "    <tr>\n",
       "      <th>198</th>\n",
       "      <td>Vietnam</td>\n",
       "      <td>14.058324</td>\n",
       "      <td>108.277199</td>\n",
       "      <td>0</td>\n",
       "      <td>0</td>\n",
       "      <td>0</td>\n",
       "      <td>0</td>\n",
       "      <td>0</td>\n",
       "      <td>0</td>\n",
       "      <td>0</td>\n",
       "      <td>...</td>\n",
       "      <td>55</td>\n",
       "      <td>51</td>\n",
       "      <td>86</td>\n",
       "      <td>81</td>\n",
       "      <td>98</td>\n",
       "      <td>98</td>\n",
       "      <td>16.75</td>\n",
       "      <td>very high</td>\n",
       "      <td>low</td>\n",
       "      <td>extremely low</td>\n",
       "    </tr>\n",
       "    <tr>\n",
       "      <th>199</th>\n",
       "      <td>Yemen</td>\n",
       "      <td>15.552727</td>\n",
       "      <td>48.516388</td>\n",
       "      <td>96</td>\n",
       "      <td>96</td>\n",
       "      <td>10</td>\n",
       "      <td>21</td>\n",
       "      <td>23</td>\n",
       "      <td>34</td>\n",
       "      <td>46</td>\n",
       "      <td>...</td>\n",
       "      <td>0</td>\n",
       "      <td>0</td>\n",
       "      <td>0</td>\n",
       "      <td>0</td>\n",
       "      <td>0</td>\n",
       "      <td>0</td>\n",
       "      <td>30.45</td>\n",
       "      <td>high</td>\n",
       "      <td>extremely low</td>\n",
       "      <td>moderate</td>\n",
       "    </tr>\n",
       "    <tr>\n",
       "      <th>200</th>\n",
       "      <td>Zambia</td>\n",
       "      <td>13.133897</td>\n",
       "      <td>27.849332</td>\n",
       "      <td>0</td>\n",
       "      <td>0</td>\n",
       "      <td>17</td>\n",
       "      <td>13</td>\n",
       "      <td>0</td>\n",
       "      <td>0</td>\n",
       "      <td>0</td>\n",
       "      <td>...</td>\n",
       "      <td>0</td>\n",
       "      <td>0</td>\n",
       "      <td>5</td>\n",
       "      <td>2</td>\n",
       "      <td>93</td>\n",
       "      <td>92</td>\n",
       "      <td>36.19</td>\n",
       "      <td>high</td>\n",
       "      <td>extremely low</td>\n",
       "      <td>moderately low</td>\n",
       "    </tr>\n",
       "    <tr>\n",
       "      <th>201</th>\n",
       "      <td>Zimbabwe</td>\n",
       "      <td>19.015438</td>\n",
       "      <td>29.154857</td>\n",
       "      <td>60</td>\n",
       "      <td>58</td>\n",
       "      <td>0</td>\n",
       "      <td>0</td>\n",
       "      <td>0</td>\n",
       "      <td>0</td>\n",
       "      <td>45</td>\n",
       "      <td>...</td>\n",
       "      <td>0</td>\n",
       "      <td>0</td>\n",
       "      <td>0</td>\n",
       "      <td>0</td>\n",
       "      <td>0</td>\n",
       "      <td>0</td>\n",
       "      <td>30.68</td>\n",
       "      <td>very high</td>\n",
       "      <td>extremely low</td>\n",
       "      <td>very low</td>\n",
       "    </tr>\n",
       "  </tbody>\n",
       "</table>\n",
       "<p>202 rows × 29 columns</p>\n",
       "</div>"
      ],
      "text/plain": [
       "    Countries and areas  Latitude    Longitude  OOSR_Pre0Primary_Age_Male  \\\n",
       "0           Afghanistan  33.939110   67.709953                          0   \n",
       "1               Albania  41.153332   20.168331                          4   \n",
       "2               Algeria  28.033886    1.659626                          0   \n",
       "3               Andorra  42.506285    1.521801                          0   \n",
       "4                Angola  11.202692   17.873887                         31   \n",
       "..                  ...        ...         ...                        ...   \n",
       "197           Venezuela   6.423750   66.589730                         14   \n",
       "198             Vietnam  14.058324  108.277199                          0   \n",
       "199               Yemen  15.552727   48.516388                         96   \n",
       "200              Zambia  13.133897   27.849332                          0   \n",
       "201            Zimbabwe  19.015438   29.154857                         60   \n",
       "\n",
       "     OOSR_Pre0Primary_Age_Female  OOSR_Primary_Age_Male  \\\n",
       "0                              0                      0   \n",
       "1                              2                      6   \n",
       "2                              0                      0   \n",
       "3                              0                      0   \n",
       "4                             39                      0   \n",
       "..                           ...                    ...   \n",
       "197                           14                     10   \n",
       "198                            0                      0   \n",
       "199                           96                     10   \n",
       "200                            0                     17   \n",
       "201                           58                      0   \n",
       "\n",
       "     OOSR_Primary_Age_Female  OOSR_Lower_Secondary_Age_Male  \\\n",
       "0                          0                              0   \n",
       "1                          3                              6   \n",
       "2                          0                              0   \n",
       "3                          0                              0   \n",
       "4                          0                              0   \n",
       "..                       ...                            ...   \n",
       "197                       10                             15   \n",
       "198                        0                              0   \n",
       "199                       21                             23   \n",
       "200                       13                              0   \n",
       "201                        0                              0   \n",
       "\n",
       "     OOSR_Lower_Secondary_Age_Female  OOSR_Upper_Secondary_Age_Male  ...  \\\n",
       "0                                  0                             44  ...   \n",
       "1                                  1                             21  ...   \n",
       "2                                  0                              0  ...   \n",
       "3                                  0                              0  ...   \n",
       "4                                  0                              0  ...   \n",
       "..                               ...                            ...  ...   \n",
       "197                               13                             28  ...   \n",
       "198                                0                              0  ...   \n",
       "199                               34                             46  ...   \n",
       "200                                0                              0  ...   \n",
       "201                                0                             45  ...   \n",
       "\n",
       "     Primary_End_Proficiency_Reading Primary_End_Proficiency_Math  \\\n",
       "0                                 13                           11   \n",
       "1                                  0                            0   \n",
       "2                                  0                            0   \n",
       "3                                  0                            0   \n",
       "4                                  0                            0   \n",
       "..                               ...                          ...   \n",
       "197                                0                            0   \n",
       "198                               55                           51   \n",
       "199                                0                            0   \n",
       "200                                0                            0   \n",
       "201                                0                            0   \n",
       "\n",
       "    Lower_Secondary_End_Proficiency_Reading  \\\n",
       "0                                         0   \n",
       "1                                        48   \n",
       "2                                        21   \n",
       "3                                         0   \n",
       "4                                         0   \n",
       "..                                      ...   \n",
       "197                                       0   \n",
       "198                                      86   \n",
       "199                                       0   \n",
       "200                                       5   \n",
       "201                                       0   \n",
       "\n",
       "    Lower_Secondary_End_Proficiency_Math Youth_15_24_Literacy_Rate_Male  \\\n",
       "0                                      0                             74   \n",
       "1                                     58                             99   \n",
       "2                                     19                             98   \n",
       "3                                      0                              0   \n",
       "4                                      0                              0   \n",
       "..                                   ...                            ...   \n",
       "197                                    0                              0   \n",
       "198                                   81                             98   \n",
       "199                                    0                              0   \n",
       "200                                    2                             93   \n",
       "201                                    0                              0   \n",
       "\n",
       "    Youth_15_24_Literacy_Rate_Female Birth_Rate  \\\n",
       "0                                 56      32.49   \n",
       "1                                100      11.78   \n",
       "2                                 97      24.28   \n",
       "3                                  0       7.20   \n",
       "4                                  0      40.73   \n",
       "..                               ...        ...   \n",
       "197                                0      17.88   \n",
       "198                               98      16.75   \n",
       "199                                0      30.45   \n",
       "200                               92      36.19   \n",
       "201                                0      30.68   \n",
       "\n",
       "     Gross_Primary_Education_Enrollment  Gross_Tertiary_Education_Enrollment  \\\n",
       "0                             very high                        extremely low   \n",
       "1                             very high                       moderately low   \n",
       "2                             very high                       moderately low   \n",
       "3                             very high                        extremely low   \n",
       "4                             very high                        extremely low   \n",
       "..                                  ...                                  ...   \n",
       "197                                high                      moderately high   \n",
       "198                           very high                                  low   \n",
       "199                                high                        extremely low   \n",
       "200                                high                        extremely low   \n",
       "201                           very high                        extremely low   \n",
       "\n",
       "     Unemployment_Rate  \n",
       "0       moderately low  \n",
       "1             moderate  \n",
       "2       moderately low  \n",
       "3        extremely low  \n",
       "4                  low  \n",
       "..                 ...  \n",
       "197                low  \n",
       "198      extremely low  \n",
       "199           moderate  \n",
       "200     moderately low  \n",
       "201           very low  \n",
       "\n",
       "[202 rows x 29 columns]"
      ]
     },
     "execution_count": 3,
     "metadata": {},
     "output_type": "execute_result"
    }
   ],
   "source": [
    "df"
   ]
  },
  {
   "cell_type": "code",
   "execution_count": 4,
   "metadata": {},
   "outputs": [
    {
     "name": "stdout",
     "output_type": "stream",
     "text": [
      "<class 'pandas.core.frame.DataFrame'>\n",
      "RangeIndex: 202 entries, 0 to 201\n",
      "Data columns (total 29 columns):\n",
      " #   Column                                   Non-Null Count  Dtype  \n",
      "---  ------                                   --------------  -----  \n",
      " 0   Countries and areas                      202 non-null    object \n",
      " 1   Latitude                                 202 non-null    float64\n",
      " 2   Longitude                                202 non-null    float64\n",
      " 3   OOSR_Pre0Primary_Age_Male                202 non-null    int64  \n",
      " 4   OOSR_Pre0Primary_Age_Female              202 non-null    int64  \n",
      " 5   OOSR_Primary_Age_Male                    202 non-null    int64  \n",
      " 6   OOSR_Primary_Age_Female                  202 non-null    int64  \n",
      " 7   OOSR_Lower_Secondary_Age_Male            202 non-null    int64  \n",
      " 8   OOSR_Lower_Secondary_Age_Female          202 non-null    int64  \n",
      " 9   OOSR_Upper_Secondary_Age_Male            202 non-null    int64  \n",
      " 10  OOSR_Upper_Secondary_Age_Female          202 non-null    int64  \n",
      " 11  Completion_Rate_Primary_Male             202 non-null    object \n",
      " 12  Completion_Rate_Primary_Female           202 non-null    object \n",
      " 13  Completion_Rate_Lower_Secondary_Male     202 non-null    object \n",
      " 14  Completion_Rate_Lower_Secondary_Female   202 non-null    object \n",
      " 15  Completion_Rate_Upper_Secondary_Male     202 non-null    object \n",
      " 16  Completion_Rate_Upper_Secondary_Female   202 non-null    object \n",
      " 17  Grade_2_3_Proficiency_Reading            202 non-null    int64  \n",
      " 18  Grade_2_3_Proficiency_Math               202 non-null    int64  \n",
      " 19  Primary_End_Proficiency_Reading          202 non-null    int64  \n",
      " 20  Primary_End_Proficiency_Math             202 non-null    int64  \n",
      " 21  Lower_Secondary_End_Proficiency_Reading  202 non-null    int64  \n",
      " 22  Lower_Secondary_End_Proficiency_Math     202 non-null    int64  \n",
      " 23  Youth_15_24_Literacy_Rate_Male           202 non-null    int64  \n",
      " 24  Youth_15_24_Literacy_Rate_Female         202 non-null    int64  \n",
      " 25  Birth_Rate                               202 non-null    float64\n",
      " 26  Gross_Primary_Education_Enrollment       202 non-null    object \n",
      " 27  Gross_Tertiary_Education_Enrollment      202 non-null    object \n",
      " 28  Unemployment_Rate                        202 non-null    object \n",
      "dtypes: float64(3), int64(16), object(10)\n",
      "memory usage: 45.9+ KB\n"
     ]
    }
   ],
   "source": [
    "df.info()"
   ]
  },
  {
   "cell_type": "code",
   "execution_count": 5,
   "metadata": {},
   "outputs": [],
   "source": [
    "df = df.drop(['Countries and areas'],axis=1)"
   ]
  },
  {
   "cell_type": "code",
   "execution_count": 6,
   "metadata": {},
   "outputs": [
    {
     "data": {
      "text/plain": [
       "['Completion_Rate_Primary_Male',\n",
       " 'Completion_Rate_Primary_Female',\n",
       " 'Completion_Rate_Lower_Secondary_Male',\n",
       " 'Completion_Rate_Lower_Secondary_Female',\n",
       " 'Completion_Rate_Upper_Secondary_Male',\n",
       " 'Completion_Rate_Upper_Secondary_Female',\n",
       " 'Gross_Primary_Education_Enrollment',\n",
       " 'Gross_Tertiary_Education_Enrollment',\n",
       " 'Unemployment_Rate']"
      ]
     },
     "execution_count": 6,
     "metadata": {},
     "output_type": "execute_result"
    }
   ],
   "source": [
    "categorical = [col for col in df.columns if df[col].dtypes == 'O']\n",
    "categorical"
   ]
  },
  {
   "cell_type": "code",
   "execution_count": 7,
   "metadata": {},
   "outputs": [],
   "source": [
    "from sklearn import preprocessing\n",
    "\n",
    "label_encoding = preprocessing.LabelEncoder()\n",
    "df['Completion_Rate_Primary_Male']=label_encoding.fit_transform(df['Completion_Rate_Primary_Male'])\n",
    "df['Completion_Rate_Primary_Female']=label_encoding.fit_transform(df['Completion_Rate_Primary_Female'])\n",
    "df['Completion_Rate_Lower_Secondary_Male']=label_encoding.fit_transform(df['Completion_Rate_Lower_Secondary_Male'])\n",
    "df['Completion_Rate_Lower_Secondary_Female']=label_encoding.fit_transform(df['Completion_Rate_Lower_Secondary_Female'])\n",
    "df['Completion_Rate_Upper_Secondary_Male']=label_encoding.fit_transform(df['Completion_Rate_Upper_Secondary_Male'])\n",
    "df['Completion_Rate_Upper_Secondary_Female']=label_encoding.fit_transform(df['Completion_Rate_Upper_Secondary_Female'])\n",
    "df['Gross_Primary_Education_Enrollment']=label_encoding.fit_transform(df['Gross_Primary_Education_Enrollment'])\n",
    "df['Gross_Tertiary_Education_Enrollment']=label_encoding.fit_transform(df['Gross_Tertiary_Education_Enrollment'])\n",
    "df['Unemployment_Rate']=label_encoding.fit_transform(df['Unemployment_Rate'])"
   ]
  },
  {
   "cell_type": "code",
   "execution_count": 8,
   "metadata": {},
   "outputs": [
    {
     "data": {
      "text/html": [
       "<div>\n",
       "<style scoped>\n",
       "    .dataframe tbody tr th:only-of-type {\n",
       "        vertical-align: middle;\n",
       "    }\n",
       "\n",
       "    .dataframe tbody tr th {\n",
       "        vertical-align: top;\n",
       "    }\n",
       "\n",
       "    .dataframe thead th {\n",
       "        text-align: right;\n",
       "    }\n",
       "</style>\n",
       "<table border=\"1\" class=\"dataframe\">\n",
       "  <thead>\n",
       "    <tr style=\"text-align: right;\">\n",
       "      <th></th>\n",
       "      <th>Latitude</th>\n",
       "      <th>Longitude</th>\n",
       "      <th>OOSR_Pre0Primary_Age_Male</th>\n",
       "      <th>OOSR_Pre0Primary_Age_Female</th>\n",
       "      <th>OOSR_Primary_Age_Male</th>\n",
       "      <th>OOSR_Primary_Age_Female</th>\n",
       "      <th>OOSR_Lower_Secondary_Age_Male</th>\n",
       "      <th>OOSR_Lower_Secondary_Age_Female</th>\n",
       "      <th>OOSR_Upper_Secondary_Age_Male</th>\n",
       "      <th>OOSR_Upper_Secondary_Age_Female</th>\n",
       "      <th>...</th>\n",
       "      <th>Primary_End_Proficiency_Reading</th>\n",
       "      <th>Primary_End_Proficiency_Math</th>\n",
       "      <th>Lower_Secondary_End_Proficiency_Reading</th>\n",
       "      <th>Lower_Secondary_End_Proficiency_Math</th>\n",
       "      <th>Youth_15_24_Literacy_Rate_Male</th>\n",
       "      <th>Youth_15_24_Literacy_Rate_Female</th>\n",
       "      <th>Birth_Rate</th>\n",
       "      <th>Gross_Primary_Education_Enrollment</th>\n",
       "      <th>Gross_Tertiary_Education_Enrollment</th>\n",
       "      <th>Unemployment_Rate</th>\n",
       "    </tr>\n",
       "  </thead>\n",
       "  <tbody>\n",
       "    <tr>\n",
       "      <th>0</th>\n",
       "      <td>33.939110</td>\n",
       "      <td>67.709953</td>\n",
       "      <td>0</td>\n",
       "      <td>0</td>\n",
       "      <td>0</td>\n",
       "      <td>0</td>\n",
       "      <td>0</td>\n",
       "      <td>0</td>\n",
       "      <td>44</td>\n",
       "      <td>69</td>\n",
       "      <td>...</td>\n",
       "      <td>13</td>\n",
       "      <td>11</td>\n",
       "      <td>0</td>\n",
       "      <td>0</td>\n",
       "      <td>74</td>\n",
       "      <td>56</td>\n",
       "      <td>32.49</td>\n",
       "      <td>6</td>\n",
       "      <td>1</td>\n",
       "      <td>5</td>\n",
       "    </tr>\n",
       "    <tr>\n",
       "      <th>1</th>\n",
       "      <td>41.153332</td>\n",
       "      <td>20.168331</td>\n",
       "      <td>4</td>\n",
       "      <td>2</td>\n",
       "      <td>6</td>\n",
       "      <td>3</td>\n",
       "      <td>6</td>\n",
       "      <td>1</td>\n",
       "      <td>21</td>\n",
       "      <td>15</td>\n",
       "      <td>...</td>\n",
       "      <td>0</td>\n",
       "      <td>0</td>\n",
       "      <td>48</td>\n",
       "      <td>58</td>\n",
       "      <td>99</td>\n",
       "      <td>100</td>\n",
       "      <td>11.78</td>\n",
       "      <td>6</td>\n",
       "      <td>6</td>\n",
       "      <td>3</td>\n",
       "    </tr>\n",
       "    <tr>\n",
       "      <th>2</th>\n",
       "      <td>28.033886</td>\n",
       "      <td>1.659626</td>\n",
       "      <td>0</td>\n",
       "      <td>0</td>\n",
       "      <td>0</td>\n",
       "      <td>0</td>\n",
       "      <td>0</td>\n",
       "      <td>0</td>\n",
       "      <td>0</td>\n",
       "      <td>0</td>\n",
       "      <td>...</td>\n",
       "      <td>0</td>\n",
       "      <td>0</td>\n",
       "      <td>21</td>\n",
       "      <td>19</td>\n",
       "      <td>98</td>\n",
       "      <td>97</td>\n",
       "      <td>24.28</td>\n",
       "      <td>6</td>\n",
       "      <td>6</td>\n",
       "      <td>5</td>\n",
       "    </tr>\n",
       "    <tr>\n",
       "      <th>3</th>\n",
       "      <td>42.506285</td>\n",
       "      <td>1.521801</td>\n",
       "      <td>0</td>\n",
       "      <td>0</td>\n",
       "      <td>0</td>\n",
       "      <td>0</td>\n",
       "      <td>0</td>\n",
       "      <td>0</td>\n",
       "      <td>0</td>\n",
       "      <td>0</td>\n",
       "      <td>...</td>\n",
       "      <td>0</td>\n",
       "      <td>0</td>\n",
       "      <td>0</td>\n",
       "      <td>0</td>\n",
       "      <td>0</td>\n",
       "      <td>0</td>\n",
       "      <td>7.20</td>\n",
       "      <td>6</td>\n",
       "      <td>1</td>\n",
       "      <td>0</td>\n",
       "    </tr>\n",
       "    <tr>\n",
       "      <th>4</th>\n",
       "      <td>11.202692</td>\n",
       "      <td>17.873887</td>\n",
       "      <td>31</td>\n",
       "      <td>39</td>\n",
       "      <td>0</td>\n",
       "      <td>0</td>\n",
       "      <td>0</td>\n",
       "      <td>0</td>\n",
       "      <td>0</td>\n",
       "      <td>0</td>\n",
       "      <td>...</td>\n",
       "      <td>0</td>\n",
       "      <td>0</td>\n",
       "      <td>0</td>\n",
       "      <td>0</td>\n",
       "      <td>0</td>\n",
       "      <td>0</td>\n",
       "      <td>40.73</td>\n",
       "      <td>6</td>\n",
       "      <td>1</td>\n",
       "      <td>2</td>\n",
       "    </tr>\n",
       "    <tr>\n",
       "      <th>...</th>\n",
       "      <td>...</td>\n",
       "      <td>...</td>\n",
       "      <td>...</td>\n",
       "      <td>...</td>\n",
       "      <td>...</td>\n",
       "      <td>...</td>\n",
       "      <td>...</td>\n",
       "      <td>...</td>\n",
       "      <td>...</td>\n",
       "      <td>...</td>\n",
       "      <td>...</td>\n",
       "      <td>...</td>\n",
       "      <td>...</td>\n",
       "      <td>...</td>\n",
       "      <td>...</td>\n",
       "      <td>...</td>\n",
       "      <td>...</td>\n",
       "      <td>...</td>\n",
       "      <td>...</td>\n",
       "      <td>...</td>\n",
       "      <td>...</td>\n",
       "    </tr>\n",
       "    <tr>\n",
       "      <th>197</th>\n",
       "      <td>6.423750</td>\n",
       "      <td>66.589730</td>\n",
       "      <td>14</td>\n",
       "      <td>14</td>\n",
       "      <td>10</td>\n",
       "      <td>10</td>\n",
       "      <td>15</td>\n",
       "      <td>13</td>\n",
       "      <td>28</td>\n",
       "      <td>19</td>\n",
       "      <td>...</td>\n",
       "      <td>0</td>\n",
       "      <td>0</td>\n",
       "      <td>0</td>\n",
       "      <td>0</td>\n",
       "      <td>0</td>\n",
       "      <td>0</td>\n",
       "      <td>17.88</td>\n",
       "      <td>2</td>\n",
       "      <td>5</td>\n",
       "      <td>2</td>\n",
       "    </tr>\n",
       "    <tr>\n",
       "      <th>198</th>\n",
       "      <td>14.058324</td>\n",
       "      <td>108.277199</td>\n",
       "      <td>0</td>\n",
       "      <td>0</td>\n",
       "      <td>0</td>\n",
       "      <td>0</td>\n",
       "      <td>0</td>\n",
       "      <td>0</td>\n",
       "      <td>0</td>\n",
       "      <td>0</td>\n",
       "      <td>...</td>\n",
       "      <td>55</td>\n",
       "      <td>51</td>\n",
       "      <td>86</td>\n",
       "      <td>81</td>\n",
       "      <td>98</td>\n",
       "      <td>98</td>\n",
       "      <td>16.75</td>\n",
       "      <td>6</td>\n",
       "      <td>3</td>\n",
       "      <td>0</td>\n",
       "    </tr>\n",
       "    <tr>\n",
       "      <th>199</th>\n",
       "      <td>15.552727</td>\n",
       "      <td>48.516388</td>\n",
       "      <td>96</td>\n",
       "      <td>96</td>\n",
       "      <td>10</td>\n",
       "      <td>21</td>\n",
       "      <td>23</td>\n",
       "      <td>34</td>\n",
       "      <td>46</td>\n",
       "      <td>68</td>\n",
       "      <td>...</td>\n",
       "      <td>0</td>\n",
       "      <td>0</td>\n",
       "      <td>0</td>\n",
       "      <td>0</td>\n",
       "      <td>0</td>\n",
       "      <td>0</td>\n",
       "      <td>30.45</td>\n",
       "      <td>2</td>\n",
       "      <td>1</td>\n",
       "      <td>3</td>\n",
       "    </tr>\n",
       "    <tr>\n",
       "      <th>200</th>\n",
       "      <td>13.133897</td>\n",
       "      <td>27.849332</td>\n",
       "      <td>0</td>\n",
       "      <td>0</td>\n",
       "      <td>17</td>\n",
       "      <td>13</td>\n",
       "      <td>0</td>\n",
       "      <td>0</td>\n",
       "      <td>0</td>\n",
       "      <td>0</td>\n",
       "      <td>...</td>\n",
       "      <td>0</td>\n",
       "      <td>0</td>\n",
       "      <td>5</td>\n",
       "      <td>2</td>\n",
       "      <td>93</td>\n",
       "      <td>92</td>\n",
       "      <td>36.19</td>\n",
       "      <td>2</td>\n",
       "      <td>1</td>\n",
       "      <td>5</td>\n",
       "    </tr>\n",
       "    <tr>\n",
       "      <th>201</th>\n",
       "      <td>19.015438</td>\n",
       "      <td>29.154857</td>\n",
       "      <td>60</td>\n",
       "      <td>58</td>\n",
       "      <td>0</td>\n",
       "      <td>0</td>\n",
       "      <td>0</td>\n",
       "      <td>0</td>\n",
       "      <td>45</td>\n",
       "      <td>50</td>\n",
       "      <td>...</td>\n",
       "      <td>0</td>\n",
       "      <td>0</td>\n",
       "      <td>0</td>\n",
       "      <td>0</td>\n",
       "      <td>0</td>\n",
       "      <td>0</td>\n",
       "      <td>30.68</td>\n",
       "      <td>6</td>\n",
       "      <td>1</td>\n",
       "      <td>8</td>\n",
       "    </tr>\n",
       "  </tbody>\n",
       "</table>\n",
       "<p>202 rows × 28 columns</p>\n",
       "</div>"
      ],
      "text/plain": [
       "     Latitude    Longitude  OOSR_Pre0Primary_Age_Male  \\\n",
       "0    33.939110   67.709953                          0   \n",
       "1    41.153332   20.168331                          4   \n",
       "2    28.033886    1.659626                          0   \n",
       "3    42.506285    1.521801                          0   \n",
       "4    11.202692   17.873887                         31   \n",
       "..         ...         ...                        ...   \n",
       "197   6.423750   66.589730                         14   \n",
       "198  14.058324  108.277199                          0   \n",
       "199  15.552727   48.516388                         96   \n",
       "200  13.133897   27.849332                          0   \n",
       "201  19.015438   29.154857                         60   \n",
       "\n",
       "     OOSR_Pre0Primary_Age_Female  OOSR_Primary_Age_Male  \\\n",
       "0                              0                      0   \n",
       "1                              2                      6   \n",
       "2                              0                      0   \n",
       "3                              0                      0   \n",
       "4                             39                      0   \n",
       "..                           ...                    ...   \n",
       "197                           14                     10   \n",
       "198                            0                      0   \n",
       "199                           96                     10   \n",
       "200                            0                     17   \n",
       "201                           58                      0   \n",
       "\n",
       "     OOSR_Primary_Age_Female  OOSR_Lower_Secondary_Age_Male  \\\n",
       "0                          0                              0   \n",
       "1                          3                              6   \n",
       "2                          0                              0   \n",
       "3                          0                              0   \n",
       "4                          0                              0   \n",
       "..                       ...                            ...   \n",
       "197                       10                             15   \n",
       "198                        0                              0   \n",
       "199                       21                             23   \n",
       "200                       13                              0   \n",
       "201                        0                              0   \n",
       "\n",
       "     OOSR_Lower_Secondary_Age_Female  OOSR_Upper_Secondary_Age_Male  \\\n",
       "0                                  0                             44   \n",
       "1                                  1                             21   \n",
       "2                                  0                              0   \n",
       "3                                  0                              0   \n",
       "4                                  0                              0   \n",
       "..                               ...                            ...   \n",
       "197                               13                             28   \n",
       "198                                0                              0   \n",
       "199                               34                             46   \n",
       "200                                0                              0   \n",
       "201                                0                             45   \n",
       "\n",
       "     OOSR_Upper_Secondary_Age_Female  ...  Primary_End_Proficiency_Reading  \\\n",
       "0                                 69  ...                               13   \n",
       "1                                 15  ...                                0   \n",
       "2                                  0  ...                                0   \n",
       "3                                  0  ...                                0   \n",
       "4                                  0  ...                                0   \n",
       "..                               ...  ...                              ...   \n",
       "197                               19  ...                                0   \n",
       "198                                0  ...                               55   \n",
       "199                               68  ...                                0   \n",
       "200                                0  ...                                0   \n",
       "201                               50  ...                                0   \n",
       "\n",
       "     Primary_End_Proficiency_Math  Lower_Secondary_End_Proficiency_Reading  \\\n",
       "0                              11                                        0   \n",
       "1                               0                                       48   \n",
       "2                               0                                       21   \n",
       "3                               0                                        0   \n",
       "4                               0                                        0   \n",
       "..                            ...                                      ...   \n",
       "197                             0                                        0   \n",
       "198                            51                                       86   \n",
       "199                             0                                        0   \n",
       "200                             0                                        5   \n",
       "201                             0                                        0   \n",
       "\n",
       "     Lower_Secondary_End_Proficiency_Math  Youth_15_24_Literacy_Rate_Male  \\\n",
       "0                                       0                              74   \n",
       "1                                      58                              99   \n",
       "2                                      19                              98   \n",
       "3                                       0                               0   \n",
       "4                                       0                               0   \n",
       "..                                    ...                             ...   \n",
       "197                                     0                               0   \n",
       "198                                    81                              98   \n",
       "199                                     0                               0   \n",
       "200                                     2                              93   \n",
       "201                                     0                               0   \n",
       "\n",
       "     Youth_15_24_Literacy_Rate_Female  Birth_Rate  \\\n",
       "0                                  56       32.49   \n",
       "1                                 100       11.78   \n",
       "2                                  97       24.28   \n",
       "3                                   0        7.20   \n",
       "4                                   0       40.73   \n",
       "..                                ...         ...   \n",
       "197                                 0       17.88   \n",
       "198                                98       16.75   \n",
       "199                                 0       30.45   \n",
       "200                                92       36.19   \n",
       "201                                 0       30.68   \n",
       "\n",
       "     Gross_Primary_Education_Enrollment  Gross_Tertiary_Education_Enrollment  \\\n",
       "0                                     6                                    1   \n",
       "1                                     6                                    6   \n",
       "2                                     6                                    6   \n",
       "3                                     6                                    1   \n",
       "4                                     6                                    1   \n",
       "..                                  ...                                  ...   \n",
       "197                                   2                                    5   \n",
       "198                                   6                                    3   \n",
       "199                                   2                                    1   \n",
       "200                                   2                                    1   \n",
       "201                                   6                                    1   \n",
       "\n",
       "     Unemployment_Rate  \n",
       "0                    5  \n",
       "1                    3  \n",
       "2                    5  \n",
       "3                    0  \n",
       "4                    2  \n",
       "..                 ...  \n",
       "197                  2  \n",
       "198                  0  \n",
       "199                  3  \n",
       "200                  5  \n",
       "201                  8  \n",
       "\n",
       "[202 rows x 28 columns]"
      ]
     },
     "execution_count": 8,
     "metadata": {},
     "output_type": "execute_result"
    }
   ],
   "source": [
    "df"
   ]
  },
  {
   "cell_type": "code",
   "execution_count": 9,
   "metadata": {},
   "outputs": [
    {
     "data": {
      "text/html": [
       "<div>\n",
       "<style scoped>\n",
       "    .dataframe tbody tr th:only-of-type {\n",
       "        vertical-align: middle;\n",
       "    }\n",
       "\n",
       "    .dataframe tbody tr th {\n",
       "        vertical-align: top;\n",
       "    }\n",
       "\n",
       "    .dataframe thead th {\n",
       "        text-align: right;\n",
       "    }\n",
       "</style>\n",
       "<table border=\"1\" class=\"dataframe\">\n",
       "  <thead>\n",
       "    <tr style=\"text-align: right;\">\n",
       "      <th></th>\n",
       "      <th>Latitude</th>\n",
       "      <th>Longitude</th>\n",
       "      <th>OOSR_Pre0Primary_Age_Male</th>\n",
       "      <th>OOSR_Pre0Primary_Age_Female</th>\n",
       "      <th>OOSR_Primary_Age_Male</th>\n",
       "      <th>OOSR_Primary_Age_Female</th>\n",
       "      <th>OOSR_Lower_Secondary_Age_Male</th>\n",
       "      <th>OOSR_Lower_Secondary_Age_Female</th>\n",
       "      <th>OOSR_Upper_Secondary_Age_Male</th>\n",
       "      <th>OOSR_Upper_Secondary_Age_Female</th>\n",
       "      <th>...</th>\n",
       "      <th>Grade_2_3_Proficiency_Math</th>\n",
       "      <th>Primary_End_Proficiency_Reading</th>\n",
       "      <th>Primary_End_Proficiency_Math</th>\n",
       "      <th>Lower_Secondary_End_Proficiency_Reading</th>\n",
       "      <th>Lower_Secondary_End_Proficiency_Math</th>\n",
       "      <th>Youth_15_24_Literacy_Rate_Male</th>\n",
       "      <th>Youth_15_24_Literacy_Rate_Female</th>\n",
       "      <th>Birth_Rate</th>\n",
       "      <th>Gross_Primary_Education_Enrollment</th>\n",
       "      <th>Gross_Tertiary_Education_Enrollment</th>\n",
       "    </tr>\n",
       "  </thead>\n",
       "  <tbody>\n",
       "    <tr>\n",
       "      <th>0</th>\n",
       "      <td>33.939110</td>\n",
       "      <td>67.709953</td>\n",
       "      <td>0</td>\n",
       "      <td>0</td>\n",
       "      <td>0</td>\n",
       "      <td>0</td>\n",
       "      <td>0</td>\n",
       "      <td>0</td>\n",
       "      <td>44</td>\n",
       "      <td>69</td>\n",
       "      <td>...</td>\n",
       "      <td>25</td>\n",
       "      <td>13</td>\n",
       "      <td>11</td>\n",
       "      <td>0</td>\n",
       "      <td>0</td>\n",
       "      <td>74</td>\n",
       "      <td>56</td>\n",
       "      <td>32.49</td>\n",
       "      <td>6</td>\n",
       "      <td>1</td>\n",
       "    </tr>\n",
       "    <tr>\n",
       "      <th>1</th>\n",
       "      <td>41.153332</td>\n",
       "      <td>20.168331</td>\n",
       "      <td>4</td>\n",
       "      <td>2</td>\n",
       "      <td>6</td>\n",
       "      <td>3</td>\n",
       "      <td>6</td>\n",
       "      <td>1</td>\n",
       "      <td>21</td>\n",
       "      <td>15</td>\n",
       "      <td>...</td>\n",
       "      <td>0</td>\n",
       "      <td>0</td>\n",
       "      <td>0</td>\n",
       "      <td>48</td>\n",
       "      <td>58</td>\n",
       "      <td>99</td>\n",
       "      <td>100</td>\n",
       "      <td>11.78</td>\n",
       "      <td>6</td>\n",
       "      <td>6</td>\n",
       "    </tr>\n",
       "    <tr>\n",
       "      <th>2</th>\n",
       "      <td>28.033886</td>\n",
       "      <td>1.659626</td>\n",
       "      <td>0</td>\n",
       "      <td>0</td>\n",
       "      <td>0</td>\n",
       "      <td>0</td>\n",
       "      <td>0</td>\n",
       "      <td>0</td>\n",
       "      <td>0</td>\n",
       "      <td>0</td>\n",
       "      <td>...</td>\n",
       "      <td>0</td>\n",
       "      <td>0</td>\n",
       "      <td>0</td>\n",
       "      <td>21</td>\n",
       "      <td>19</td>\n",
       "      <td>98</td>\n",
       "      <td>97</td>\n",
       "      <td>24.28</td>\n",
       "      <td>6</td>\n",
       "      <td>6</td>\n",
       "    </tr>\n",
       "    <tr>\n",
       "      <th>3</th>\n",
       "      <td>42.506285</td>\n",
       "      <td>1.521801</td>\n",
       "      <td>0</td>\n",
       "      <td>0</td>\n",
       "      <td>0</td>\n",
       "      <td>0</td>\n",
       "      <td>0</td>\n",
       "      <td>0</td>\n",
       "      <td>0</td>\n",
       "      <td>0</td>\n",
       "      <td>...</td>\n",
       "      <td>0</td>\n",
       "      <td>0</td>\n",
       "      <td>0</td>\n",
       "      <td>0</td>\n",
       "      <td>0</td>\n",
       "      <td>0</td>\n",
       "      <td>0</td>\n",
       "      <td>7.20</td>\n",
       "      <td>6</td>\n",
       "      <td>1</td>\n",
       "    </tr>\n",
       "    <tr>\n",
       "      <th>4</th>\n",
       "      <td>11.202692</td>\n",
       "      <td>17.873887</td>\n",
       "      <td>31</td>\n",
       "      <td>39</td>\n",
       "      <td>0</td>\n",
       "      <td>0</td>\n",
       "      <td>0</td>\n",
       "      <td>0</td>\n",
       "      <td>0</td>\n",
       "      <td>0</td>\n",
       "      <td>...</td>\n",
       "      <td>0</td>\n",
       "      <td>0</td>\n",
       "      <td>0</td>\n",
       "      <td>0</td>\n",
       "      <td>0</td>\n",
       "      <td>0</td>\n",
       "      <td>0</td>\n",
       "      <td>40.73</td>\n",
       "      <td>6</td>\n",
       "      <td>1</td>\n",
       "    </tr>\n",
       "  </tbody>\n",
       "</table>\n",
       "<p>5 rows × 27 columns</p>\n",
       "</div>"
      ],
      "text/plain": [
       "   Latitude   Longitude  OOSR_Pre0Primary_Age_Male  \\\n",
       "0  33.939110  67.709953                          0   \n",
       "1  41.153332  20.168331                          4   \n",
       "2  28.033886   1.659626                          0   \n",
       "3  42.506285   1.521801                          0   \n",
       "4  11.202692  17.873887                         31   \n",
       "\n",
       "   OOSR_Pre0Primary_Age_Female  OOSR_Primary_Age_Male  \\\n",
       "0                            0                      0   \n",
       "1                            2                      6   \n",
       "2                            0                      0   \n",
       "3                            0                      0   \n",
       "4                           39                      0   \n",
       "\n",
       "   OOSR_Primary_Age_Female  OOSR_Lower_Secondary_Age_Male  \\\n",
       "0                        0                              0   \n",
       "1                        3                              6   \n",
       "2                        0                              0   \n",
       "3                        0                              0   \n",
       "4                        0                              0   \n",
       "\n",
       "   OOSR_Lower_Secondary_Age_Female  OOSR_Upper_Secondary_Age_Male  \\\n",
       "0                                0                             44   \n",
       "1                                1                             21   \n",
       "2                                0                              0   \n",
       "3                                0                              0   \n",
       "4                                0                              0   \n",
       "\n",
       "   OOSR_Upper_Secondary_Age_Female  ...  Grade_2_3_Proficiency_Math  \\\n",
       "0                               69  ...                          25   \n",
       "1                               15  ...                           0   \n",
       "2                                0  ...                           0   \n",
       "3                                0  ...                           0   \n",
       "4                                0  ...                           0   \n",
       "\n",
       "   Primary_End_Proficiency_Reading  Primary_End_Proficiency_Math  \\\n",
       "0                               13                            11   \n",
       "1                                0                             0   \n",
       "2                                0                             0   \n",
       "3                                0                             0   \n",
       "4                                0                             0   \n",
       "\n",
       "   Lower_Secondary_End_Proficiency_Reading  \\\n",
       "0                                        0   \n",
       "1                                       48   \n",
       "2                                       21   \n",
       "3                                        0   \n",
       "4                                        0   \n",
       "\n",
       "   Lower_Secondary_End_Proficiency_Math  Youth_15_24_Literacy_Rate_Male  \\\n",
       "0                                     0                              74   \n",
       "1                                    58                              99   \n",
       "2                                    19                              98   \n",
       "3                                     0                               0   \n",
       "4                                     0                               0   \n",
       "\n",
       "   Youth_15_24_Literacy_Rate_Female  Birth_Rate  \\\n",
       "0                                56       32.49   \n",
       "1                               100       11.78   \n",
       "2                                97       24.28   \n",
       "3                                 0        7.20   \n",
       "4                                 0       40.73   \n",
       "\n",
       "   Gross_Primary_Education_Enrollment  Gross_Tertiary_Education_Enrollment  \n",
       "0                                   6                                    1  \n",
       "1                                   6                                    6  \n",
       "2                                   6                                    6  \n",
       "3                                   6                                    1  \n",
       "4                                   6                                    1  \n",
       "\n",
       "[5 rows x 27 columns]"
      ]
     },
     "execution_count": 9,
     "metadata": {},
     "output_type": "execute_result"
    }
   ],
   "source": [
    "df_clustering_inputlist= df.drop(['Unemployment_Rate'], axis=1)\n",
    "df_clustering_inputlist.head()"
   ]
  },
  {
   "cell_type": "code",
   "execution_count": null,
   "metadata": {},
   "outputs": [],
   "source": []
  },
  {
   "cell_type": "markdown",
   "metadata": {},
   "source": [
    "# KMEANS CLUSTERING"
   ]
  },
  {
   "cell_type": "code",
   "execution_count": 10,
   "metadata": {},
   "outputs": [],
   "source": [
    "import matplotlib.pyplot as plt\n",
    "from sklearn.cluster import KMeans\n",
    "from sklearn.metrics import silhouette_score\n",
    "from mpl_toolkits.mplot3d import axes3d"
   ]
  },
  {
   "cell_type": "code",
   "execution_count": 11,
   "metadata": {},
   "outputs": [
    {
     "name": "stdout",
     "output_type": "stream",
     "text": [
      "For n_clusters = 2 The average silhouette_score is: 0.2821149029406953\n",
      "For n_clusters = 3 The average silhouette_score is: 0.2760096750266069\n",
      "For n_clusters = 4 The average silhouette_score is: 0.2815180352538375\n",
      "For n_clusters = 5 The average silhouette_score is: 0.27911224118025313\n",
      "For n_clusters = 6 The average silhouette_score is: 0.2598567409462513\n",
      "For n_clusters = 7 The average silhouette_score is: 0.2840950935312262\n",
      "For n_clusters = 8 The average silhouette_score is: 0.2730258107781184\n",
      "For n_clusters = 9 The average silhouette_score is: 0.2810362215885444\n",
      "The best number of clusters is: 7 with silhouette score: 0.2840950935312262\n"
     ]
    }
   ],
   "source": [
    "# Assuming df_input is your DataFrame containing the input data\n",
    "best_n_clusters = None\n",
    "best_silhouette_score = -1 # Initialize with a low value\n",
    "\n",
    "K = range (2,10)\n",
    "for k in K:\n",
    "    kmeanModel = KMeans(n_clusters=k,random_state=0)\n",
    "    cluster_labels = kmeanModel.fit_predict(df_clustering_inputlist)\n",
    "\n",
    "    # Calculate silhouette_score for each cluster\n",
    "    silhouette_avg = silhouette_score(df_clustering_inputlist,cluster_labels)\n",
    "\n",
    "    print(\"For n_clusters =\", k, \"The average silhouette_score is:\", silhouette_avg)\n",
    "\n",
    "    # Save the best result\n",
    "    if silhouette_avg > best_silhouette_score:\n",
    "        best_silhouette_score = silhouette_avg\n",
    "        best_n_clusters = k\n",
    "        \n",
    "# Print the best result\n",
    "print(\"The best number of clusters is:\", best_n_clusters, \"with silhouette score:\", best_silhouette_score)\n",
    "kmeans_sihlouette_score = best_silhouette_score"
   ]
  },
  {
   "cell_type": "code",
   "execution_count": 12,
   "metadata": {},
   "outputs": [],
   "source": [
    "kmeanModel = KMeans(n_clusters=best_n_clusters,random_state=0)\n",
    "df['KMeans'] = kmeanModel.fit_predict(df_clustering_inputlist)"
   ]
  },
  {
   "cell_type": "code",
   "execution_count": 13,
   "metadata": {},
   "outputs": [
    {
     "data": {
      "text/html": [
       "<div>\n",
       "<style scoped>\n",
       "    .dataframe tbody tr th:only-of-type {\n",
       "        vertical-align: middle;\n",
       "    }\n",
       "\n",
       "    .dataframe tbody tr th {\n",
       "        vertical-align: top;\n",
       "    }\n",
       "\n",
       "    .dataframe thead th {\n",
       "        text-align: right;\n",
       "    }\n",
       "</style>\n",
       "<table border=\"1\" class=\"dataframe\">\n",
       "  <thead>\n",
       "    <tr style=\"text-align: right;\">\n",
       "      <th></th>\n",
       "      <th>Latitude</th>\n",
       "      <th>Longitude</th>\n",
       "      <th>OOSR_Pre0Primary_Age_Male</th>\n",
       "      <th>OOSR_Pre0Primary_Age_Female</th>\n",
       "      <th>OOSR_Primary_Age_Male</th>\n",
       "      <th>OOSR_Primary_Age_Female</th>\n",
       "      <th>OOSR_Lower_Secondary_Age_Male</th>\n",
       "      <th>OOSR_Lower_Secondary_Age_Female</th>\n",
       "      <th>OOSR_Upper_Secondary_Age_Male</th>\n",
       "      <th>OOSR_Upper_Secondary_Age_Female</th>\n",
       "      <th>...</th>\n",
       "      <th>Primary_End_Proficiency_Math</th>\n",
       "      <th>Lower_Secondary_End_Proficiency_Reading</th>\n",
       "      <th>Lower_Secondary_End_Proficiency_Math</th>\n",
       "      <th>Youth_15_24_Literacy_Rate_Male</th>\n",
       "      <th>Youth_15_24_Literacy_Rate_Female</th>\n",
       "      <th>Birth_Rate</th>\n",
       "      <th>Gross_Primary_Education_Enrollment</th>\n",
       "      <th>Gross_Tertiary_Education_Enrollment</th>\n",
       "      <th>Unemployment_Rate</th>\n",
       "      <th>KMeans</th>\n",
       "    </tr>\n",
       "  </thead>\n",
       "  <tbody>\n",
       "    <tr>\n",
       "      <th>0</th>\n",
       "      <td>33.939110</td>\n",
       "      <td>67.709953</td>\n",
       "      <td>0</td>\n",
       "      <td>0</td>\n",
       "      <td>0</td>\n",
       "      <td>0</td>\n",
       "      <td>0</td>\n",
       "      <td>0</td>\n",
       "      <td>44</td>\n",
       "      <td>69</td>\n",
       "      <td>...</td>\n",
       "      <td>11</td>\n",
       "      <td>0</td>\n",
       "      <td>0</td>\n",
       "      <td>74</td>\n",
       "      <td>56</td>\n",
       "      <td>32.49</td>\n",
       "      <td>6</td>\n",
       "      <td>1</td>\n",
       "      <td>5</td>\n",
       "      <td>2</td>\n",
       "    </tr>\n",
       "    <tr>\n",
       "      <th>1</th>\n",
       "      <td>41.153332</td>\n",
       "      <td>20.168331</td>\n",
       "      <td>4</td>\n",
       "      <td>2</td>\n",
       "      <td>6</td>\n",
       "      <td>3</td>\n",
       "      <td>6</td>\n",
       "      <td>1</td>\n",
       "      <td>21</td>\n",
       "      <td>15</td>\n",
       "      <td>...</td>\n",
       "      <td>0</td>\n",
       "      <td>48</td>\n",
       "      <td>58</td>\n",
       "      <td>99</td>\n",
       "      <td>100</td>\n",
       "      <td>11.78</td>\n",
       "      <td>6</td>\n",
       "      <td>6</td>\n",
       "      <td>3</td>\n",
       "      <td>2</td>\n",
       "    </tr>\n",
       "    <tr>\n",
       "      <th>2</th>\n",
       "      <td>28.033886</td>\n",
       "      <td>1.659626</td>\n",
       "      <td>0</td>\n",
       "      <td>0</td>\n",
       "      <td>0</td>\n",
       "      <td>0</td>\n",
       "      <td>0</td>\n",
       "      <td>0</td>\n",
       "      <td>0</td>\n",
       "      <td>0</td>\n",
       "      <td>...</td>\n",
       "      <td>0</td>\n",
       "      <td>21</td>\n",
       "      <td>19</td>\n",
       "      <td>98</td>\n",
       "      <td>97</td>\n",
       "      <td>24.28</td>\n",
       "      <td>6</td>\n",
       "      <td>6</td>\n",
       "      <td>5</td>\n",
       "      <td>2</td>\n",
       "    </tr>\n",
       "    <tr>\n",
       "      <th>3</th>\n",
       "      <td>42.506285</td>\n",
       "      <td>1.521801</td>\n",
       "      <td>0</td>\n",
       "      <td>0</td>\n",
       "      <td>0</td>\n",
       "      <td>0</td>\n",
       "      <td>0</td>\n",
       "      <td>0</td>\n",
       "      <td>0</td>\n",
       "      <td>0</td>\n",
       "      <td>...</td>\n",
       "      <td>0</td>\n",
       "      <td>0</td>\n",
       "      <td>0</td>\n",
       "      <td>0</td>\n",
       "      <td>0</td>\n",
       "      <td>7.20</td>\n",
       "      <td>6</td>\n",
       "      <td>1</td>\n",
       "      <td>0</td>\n",
       "      <td>6</td>\n",
       "    </tr>\n",
       "    <tr>\n",
       "      <th>4</th>\n",
       "      <td>11.202692</td>\n",
       "      <td>17.873887</td>\n",
       "      <td>31</td>\n",
       "      <td>39</td>\n",
       "      <td>0</td>\n",
       "      <td>0</td>\n",
       "      <td>0</td>\n",
       "      <td>0</td>\n",
       "      <td>0</td>\n",
       "      <td>0</td>\n",
       "      <td>...</td>\n",
       "      <td>0</td>\n",
       "      <td>0</td>\n",
       "      <td>0</td>\n",
       "      <td>0</td>\n",
       "      <td>0</td>\n",
       "      <td>40.73</td>\n",
       "      <td>6</td>\n",
       "      <td>1</td>\n",
       "      <td>2</td>\n",
       "      <td>6</td>\n",
       "    </tr>\n",
       "    <tr>\n",
       "      <th>...</th>\n",
       "      <td>...</td>\n",
       "      <td>...</td>\n",
       "      <td>...</td>\n",
       "      <td>...</td>\n",
       "      <td>...</td>\n",
       "      <td>...</td>\n",
       "      <td>...</td>\n",
       "      <td>...</td>\n",
       "      <td>...</td>\n",
       "      <td>...</td>\n",
       "      <td>...</td>\n",
       "      <td>...</td>\n",
       "      <td>...</td>\n",
       "      <td>...</td>\n",
       "      <td>...</td>\n",
       "      <td>...</td>\n",
       "      <td>...</td>\n",
       "      <td>...</td>\n",
       "      <td>...</td>\n",
       "      <td>...</td>\n",
       "      <td>...</td>\n",
       "    </tr>\n",
       "    <tr>\n",
       "      <th>197</th>\n",
       "      <td>6.423750</td>\n",
       "      <td>66.589730</td>\n",
       "      <td>14</td>\n",
       "      <td>14</td>\n",
       "      <td>10</td>\n",
       "      <td>10</td>\n",
       "      <td>15</td>\n",
       "      <td>13</td>\n",
       "      <td>28</td>\n",
       "      <td>19</td>\n",
       "      <td>...</td>\n",
       "      <td>0</td>\n",
       "      <td>0</td>\n",
       "      <td>0</td>\n",
       "      <td>0</td>\n",
       "      <td>0</td>\n",
       "      <td>17.88</td>\n",
       "      <td>2</td>\n",
       "      <td>5</td>\n",
       "      <td>2</td>\n",
       "      <td>6</td>\n",
       "    </tr>\n",
       "    <tr>\n",
       "      <th>198</th>\n",
       "      <td>14.058324</td>\n",
       "      <td>108.277199</td>\n",
       "      <td>0</td>\n",
       "      <td>0</td>\n",
       "      <td>0</td>\n",
       "      <td>0</td>\n",
       "      <td>0</td>\n",
       "      <td>0</td>\n",
       "      <td>0</td>\n",
       "      <td>0</td>\n",
       "      <td>...</td>\n",
       "      <td>51</td>\n",
       "      <td>86</td>\n",
       "      <td>81</td>\n",
       "      <td>98</td>\n",
       "      <td>98</td>\n",
       "      <td>16.75</td>\n",
       "      <td>6</td>\n",
       "      <td>3</td>\n",
       "      <td>0</td>\n",
       "      <td>5</td>\n",
       "    </tr>\n",
       "    <tr>\n",
       "      <th>199</th>\n",
       "      <td>15.552727</td>\n",
       "      <td>48.516388</td>\n",
       "      <td>96</td>\n",
       "      <td>96</td>\n",
       "      <td>10</td>\n",
       "      <td>21</td>\n",
       "      <td>23</td>\n",
       "      <td>34</td>\n",
       "      <td>46</td>\n",
       "      <td>68</td>\n",
       "      <td>...</td>\n",
       "      <td>0</td>\n",
       "      <td>0</td>\n",
       "      <td>0</td>\n",
       "      <td>0</td>\n",
       "      <td>0</td>\n",
       "      <td>30.45</td>\n",
       "      <td>2</td>\n",
       "      <td>1</td>\n",
       "      <td>3</td>\n",
       "      <td>0</td>\n",
       "    </tr>\n",
       "    <tr>\n",
       "      <th>200</th>\n",
       "      <td>13.133897</td>\n",
       "      <td>27.849332</td>\n",
       "      <td>0</td>\n",
       "      <td>0</td>\n",
       "      <td>17</td>\n",
       "      <td>13</td>\n",
       "      <td>0</td>\n",
       "      <td>0</td>\n",
       "      <td>0</td>\n",
       "      <td>0</td>\n",
       "      <td>...</td>\n",
       "      <td>0</td>\n",
       "      <td>5</td>\n",
       "      <td>2</td>\n",
       "      <td>93</td>\n",
       "      <td>92</td>\n",
       "      <td>36.19</td>\n",
       "      <td>2</td>\n",
       "      <td>1</td>\n",
       "      <td>5</td>\n",
       "      <td>2</td>\n",
       "    </tr>\n",
       "    <tr>\n",
       "      <th>201</th>\n",
       "      <td>19.015438</td>\n",
       "      <td>29.154857</td>\n",
       "      <td>60</td>\n",
       "      <td>58</td>\n",
       "      <td>0</td>\n",
       "      <td>0</td>\n",
       "      <td>0</td>\n",
       "      <td>0</td>\n",
       "      <td>45</td>\n",
       "      <td>50</td>\n",
       "      <td>...</td>\n",
       "      <td>0</td>\n",
       "      <td>0</td>\n",
       "      <td>0</td>\n",
       "      <td>0</td>\n",
       "      <td>0</td>\n",
       "      <td>30.68</td>\n",
       "      <td>6</td>\n",
       "      <td>1</td>\n",
       "      <td>8</td>\n",
       "      <td>6</td>\n",
       "    </tr>\n",
       "  </tbody>\n",
       "</table>\n",
       "<p>202 rows × 29 columns</p>\n",
       "</div>"
      ],
      "text/plain": [
       "     Latitude    Longitude  OOSR_Pre0Primary_Age_Male  \\\n",
       "0    33.939110   67.709953                          0   \n",
       "1    41.153332   20.168331                          4   \n",
       "2    28.033886    1.659626                          0   \n",
       "3    42.506285    1.521801                          0   \n",
       "4    11.202692   17.873887                         31   \n",
       "..         ...         ...                        ...   \n",
       "197   6.423750   66.589730                         14   \n",
       "198  14.058324  108.277199                          0   \n",
       "199  15.552727   48.516388                         96   \n",
       "200  13.133897   27.849332                          0   \n",
       "201  19.015438   29.154857                         60   \n",
       "\n",
       "     OOSR_Pre0Primary_Age_Female  OOSR_Primary_Age_Male  \\\n",
       "0                              0                      0   \n",
       "1                              2                      6   \n",
       "2                              0                      0   \n",
       "3                              0                      0   \n",
       "4                             39                      0   \n",
       "..                           ...                    ...   \n",
       "197                           14                     10   \n",
       "198                            0                      0   \n",
       "199                           96                     10   \n",
       "200                            0                     17   \n",
       "201                           58                      0   \n",
       "\n",
       "     OOSR_Primary_Age_Female  OOSR_Lower_Secondary_Age_Male  \\\n",
       "0                          0                              0   \n",
       "1                          3                              6   \n",
       "2                          0                              0   \n",
       "3                          0                              0   \n",
       "4                          0                              0   \n",
       "..                       ...                            ...   \n",
       "197                       10                             15   \n",
       "198                        0                              0   \n",
       "199                       21                             23   \n",
       "200                       13                              0   \n",
       "201                        0                              0   \n",
       "\n",
       "     OOSR_Lower_Secondary_Age_Female  OOSR_Upper_Secondary_Age_Male  \\\n",
       "0                                  0                             44   \n",
       "1                                  1                             21   \n",
       "2                                  0                              0   \n",
       "3                                  0                              0   \n",
       "4                                  0                              0   \n",
       "..                               ...                            ...   \n",
       "197                               13                             28   \n",
       "198                                0                              0   \n",
       "199                               34                             46   \n",
       "200                                0                              0   \n",
       "201                                0                             45   \n",
       "\n",
       "     OOSR_Upper_Secondary_Age_Female  ...  Primary_End_Proficiency_Math  \\\n",
       "0                                 69  ...                            11   \n",
       "1                                 15  ...                             0   \n",
       "2                                  0  ...                             0   \n",
       "3                                  0  ...                             0   \n",
       "4                                  0  ...                             0   \n",
       "..                               ...  ...                           ...   \n",
       "197                               19  ...                             0   \n",
       "198                                0  ...                            51   \n",
       "199                               68  ...                             0   \n",
       "200                                0  ...                             0   \n",
       "201                               50  ...                             0   \n",
       "\n",
       "     Lower_Secondary_End_Proficiency_Reading  \\\n",
       "0                                          0   \n",
       "1                                         48   \n",
       "2                                         21   \n",
       "3                                          0   \n",
       "4                                          0   \n",
       "..                                       ...   \n",
       "197                                        0   \n",
       "198                                       86   \n",
       "199                                        0   \n",
       "200                                        5   \n",
       "201                                        0   \n",
       "\n",
       "     Lower_Secondary_End_Proficiency_Math  Youth_15_24_Literacy_Rate_Male  \\\n",
       "0                                       0                              74   \n",
       "1                                      58                              99   \n",
       "2                                      19                              98   \n",
       "3                                       0                               0   \n",
       "4                                       0                               0   \n",
       "..                                    ...                             ...   \n",
       "197                                     0                               0   \n",
       "198                                    81                              98   \n",
       "199                                     0                               0   \n",
       "200                                     2                              93   \n",
       "201                                     0                               0   \n",
       "\n",
       "     Youth_15_24_Literacy_Rate_Female  Birth_Rate  \\\n",
       "0                                  56       32.49   \n",
       "1                                 100       11.78   \n",
       "2                                  97       24.28   \n",
       "3                                   0        7.20   \n",
       "4                                   0       40.73   \n",
       "..                                ...         ...   \n",
       "197                                 0       17.88   \n",
       "198                                98       16.75   \n",
       "199                                 0       30.45   \n",
       "200                                92       36.19   \n",
       "201                                 0       30.68   \n",
       "\n",
       "     Gross_Primary_Education_Enrollment  Gross_Tertiary_Education_Enrollment  \\\n",
       "0                                     6                                    1   \n",
       "1                                     6                                    6   \n",
       "2                                     6                                    6   \n",
       "3                                     6                                    1   \n",
       "4                                     6                                    1   \n",
       "..                                  ...                                  ...   \n",
       "197                                   2                                    5   \n",
       "198                                   6                                    3   \n",
       "199                                   2                                    1   \n",
       "200                                   2                                    1   \n",
       "201                                   6                                    1   \n",
       "\n",
       "     Unemployment_Rate  KMeans  \n",
       "0                    5       2  \n",
       "1                    3       2  \n",
       "2                    5       2  \n",
       "3                    0       6  \n",
       "4                    2       6  \n",
       "..                 ...     ...  \n",
       "197                  2       6  \n",
       "198                  0       5  \n",
       "199                  3       0  \n",
       "200                  5       2  \n",
       "201                  8       6  \n",
       "\n",
       "[202 rows x 29 columns]"
      ]
     },
     "execution_count": 13,
     "metadata": {},
     "output_type": "execute_result"
    }
   ],
   "source": [
    "df"
   ]
  },
  {
   "cell_type": "code",
   "execution_count": 14,
   "metadata": {},
   "outputs": [
    {
     "data": {
      "text/html": [
       "<div>\n",
       "<style scoped>\n",
       "    .dataframe tbody tr th:only-of-type {\n",
       "        vertical-align: middle;\n",
       "    }\n",
       "\n",
       "    .dataframe tbody tr th {\n",
       "        vertical-align: top;\n",
       "    }\n",
       "\n",
       "    .dataframe thead th {\n",
       "        text-align: right;\n",
       "    }\n",
       "</style>\n",
       "<table border=\"1\" class=\"dataframe\">\n",
       "  <thead>\n",
       "    <tr style=\"text-align: right;\">\n",
       "      <th></th>\n",
       "      <th>Latitude</th>\n",
       "      <th>Longitude</th>\n",
       "      <th>OOSR_Pre0Primary_Age_Male</th>\n",
       "      <th>OOSR_Pre0Primary_Age_Female</th>\n",
       "      <th>OOSR_Primary_Age_Male</th>\n",
       "      <th>OOSR_Primary_Age_Female</th>\n",
       "      <th>OOSR_Lower_Secondary_Age_Male</th>\n",
       "      <th>OOSR_Lower_Secondary_Age_Female</th>\n",
       "      <th>OOSR_Upper_Secondary_Age_Male</th>\n",
       "      <th>OOSR_Upper_Secondary_Age_Female</th>\n",
       "      <th>...</th>\n",
       "      <th>Grade_2_3_Proficiency_Math</th>\n",
       "      <th>Primary_End_Proficiency_Reading</th>\n",
       "      <th>Primary_End_Proficiency_Math</th>\n",
       "      <th>Lower_Secondary_End_Proficiency_Reading</th>\n",
       "      <th>Lower_Secondary_End_Proficiency_Math</th>\n",
       "      <th>Youth_15_24_Literacy_Rate_Male</th>\n",
       "      <th>Youth_15_24_Literacy_Rate_Female</th>\n",
       "      <th>Birth_Rate</th>\n",
       "      <th>Gross_Primary_Education_Enrollment</th>\n",
       "      <th>Gross_Tertiary_Education_Enrollment</th>\n",
       "    </tr>\n",
       "  </thead>\n",
       "  <tbody>\n",
       "    <tr>\n",
       "      <th>0</th>\n",
       "      <td>33.939110</td>\n",
       "      <td>67.709953</td>\n",
       "      <td>0</td>\n",
       "      <td>0</td>\n",
       "      <td>0</td>\n",
       "      <td>0</td>\n",
       "      <td>0</td>\n",
       "      <td>0</td>\n",
       "      <td>44</td>\n",
       "      <td>69</td>\n",
       "      <td>...</td>\n",
       "      <td>25</td>\n",
       "      <td>13</td>\n",
       "      <td>11</td>\n",
       "      <td>0</td>\n",
       "      <td>0</td>\n",
       "      <td>74</td>\n",
       "      <td>56</td>\n",
       "      <td>32.49</td>\n",
       "      <td>6</td>\n",
       "      <td>1</td>\n",
       "    </tr>\n",
       "    <tr>\n",
       "      <th>1</th>\n",
       "      <td>41.153332</td>\n",
       "      <td>20.168331</td>\n",
       "      <td>4</td>\n",
       "      <td>2</td>\n",
       "      <td>6</td>\n",
       "      <td>3</td>\n",
       "      <td>6</td>\n",
       "      <td>1</td>\n",
       "      <td>21</td>\n",
       "      <td>15</td>\n",
       "      <td>...</td>\n",
       "      <td>0</td>\n",
       "      <td>0</td>\n",
       "      <td>0</td>\n",
       "      <td>48</td>\n",
       "      <td>58</td>\n",
       "      <td>99</td>\n",
       "      <td>100</td>\n",
       "      <td>11.78</td>\n",
       "      <td>6</td>\n",
       "      <td>6</td>\n",
       "    </tr>\n",
       "    <tr>\n",
       "      <th>2</th>\n",
       "      <td>28.033886</td>\n",
       "      <td>1.659626</td>\n",
       "      <td>0</td>\n",
       "      <td>0</td>\n",
       "      <td>0</td>\n",
       "      <td>0</td>\n",
       "      <td>0</td>\n",
       "      <td>0</td>\n",
       "      <td>0</td>\n",
       "      <td>0</td>\n",
       "      <td>...</td>\n",
       "      <td>0</td>\n",
       "      <td>0</td>\n",
       "      <td>0</td>\n",
       "      <td>21</td>\n",
       "      <td>19</td>\n",
       "      <td>98</td>\n",
       "      <td>97</td>\n",
       "      <td>24.28</td>\n",
       "      <td>6</td>\n",
       "      <td>6</td>\n",
       "    </tr>\n",
       "    <tr>\n",
       "      <th>3</th>\n",
       "      <td>42.506285</td>\n",
       "      <td>1.521801</td>\n",
       "      <td>0</td>\n",
       "      <td>0</td>\n",
       "      <td>0</td>\n",
       "      <td>0</td>\n",
       "      <td>0</td>\n",
       "      <td>0</td>\n",
       "      <td>0</td>\n",
       "      <td>0</td>\n",
       "      <td>...</td>\n",
       "      <td>0</td>\n",
       "      <td>0</td>\n",
       "      <td>0</td>\n",
       "      <td>0</td>\n",
       "      <td>0</td>\n",
       "      <td>0</td>\n",
       "      <td>0</td>\n",
       "      <td>7.20</td>\n",
       "      <td>6</td>\n",
       "      <td>1</td>\n",
       "    </tr>\n",
       "    <tr>\n",
       "      <th>4</th>\n",
       "      <td>11.202692</td>\n",
       "      <td>17.873887</td>\n",
       "      <td>31</td>\n",
       "      <td>39</td>\n",
       "      <td>0</td>\n",
       "      <td>0</td>\n",
       "      <td>0</td>\n",
       "      <td>0</td>\n",
       "      <td>0</td>\n",
       "      <td>0</td>\n",
       "      <td>...</td>\n",
       "      <td>0</td>\n",
       "      <td>0</td>\n",
       "      <td>0</td>\n",
       "      <td>0</td>\n",
       "      <td>0</td>\n",
       "      <td>0</td>\n",
       "      <td>0</td>\n",
       "      <td>40.73</td>\n",
       "      <td>6</td>\n",
       "      <td>1</td>\n",
       "    </tr>\n",
       "    <tr>\n",
       "      <th>...</th>\n",
       "      <td>...</td>\n",
       "      <td>...</td>\n",
       "      <td>...</td>\n",
       "      <td>...</td>\n",
       "      <td>...</td>\n",
       "      <td>...</td>\n",
       "      <td>...</td>\n",
       "      <td>...</td>\n",
       "      <td>...</td>\n",
       "      <td>...</td>\n",
       "      <td>...</td>\n",
       "      <td>...</td>\n",
       "      <td>...</td>\n",
       "      <td>...</td>\n",
       "      <td>...</td>\n",
       "      <td>...</td>\n",
       "      <td>...</td>\n",
       "      <td>...</td>\n",
       "      <td>...</td>\n",
       "      <td>...</td>\n",
       "      <td>...</td>\n",
       "    </tr>\n",
       "    <tr>\n",
       "      <th>197</th>\n",
       "      <td>6.423750</td>\n",
       "      <td>66.589730</td>\n",
       "      <td>14</td>\n",
       "      <td>14</td>\n",
       "      <td>10</td>\n",
       "      <td>10</td>\n",
       "      <td>15</td>\n",
       "      <td>13</td>\n",
       "      <td>28</td>\n",
       "      <td>19</td>\n",
       "      <td>...</td>\n",
       "      <td>0</td>\n",
       "      <td>0</td>\n",
       "      <td>0</td>\n",
       "      <td>0</td>\n",
       "      <td>0</td>\n",
       "      <td>0</td>\n",
       "      <td>0</td>\n",
       "      <td>17.88</td>\n",
       "      <td>2</td>\n",
       "      <td>5</td>\n",
       "    </tr>\n",
       "    <tr>\n",
       "      <th>198</th>\n",
       "      <td>14.058324</td>\n",
       "      <td>108.277199</td>\n",
       "      <td>0</td>\n",
       "      <td>0</td>\n",
       "      <td>0</td>\n",
       "      <td>0</td>\n",
       "      <td>0</td>\n",
       "      <td>0</td>\n",
       "      <td>0</td>\n",
       "      <td>0</td>\n",
       "      <td>...</td>\n",
       "      <td>0</td>\n",
       "      <td>55</td>\n",
       "      <td>51</td>\n",
       "      <td>86</td>\n",
       "      <td>81</td>\n",
       "      <td>98</td>\n",
       "      <td>98</td>\n",
       "      <td>16.75</td>\n",
       "      <td>6</td>\n",
       "      <td>3</td>\n",
       "    </tr>\n",
       "    <tr>\n",
       "      <th>199</th>\n",
       "      <td>15.552727</td>\n",
       "      <td>48.516388</td>\n",
       "      <td>96</td>\n",
       "      <td>96</td>\n",
       "      <td>10</td>\n",
       "      <td>21</td>\n",
       "      <td>23</td>\n",
       "      <td>34</td>\n",
       "      <td>46</td>\n",
       "      <td>68</td>\n",
       "      <td>...</td>\n",
       "      <td>0</td>\n",
       "      <td>0</td>\n",
       "      <td>0</td>\n",
       "      <td>0</td>\n",
       "      <td>0</td>\n",
       "      <td>0</td>\n",
       "      <td>0</td>\n",
       "      <td>30.45</td>\n",
       "      <td>2</td>\n",
       "      <td>1</td>\n",
       "    </tr>\n",
       "    <tr>\n",
       "      <th>200</th>\n",
       "      <td>13.133897</td>\n",
       "      <td>27.849332</td>\n",
       "      <td>0</td>\n",
       "      <td>0</td>\n",
       "      <td>17</td>\n",
       "      <td>13</td>\n",
       "      <td>0</td>\n",
       "      <td>0</td>\n",
       "      <td>0</td>\n",
       "      <td>0</td>\n",
       "      <td>...</td>\n",
       "      <td>0</td>\n",
       "      <td>0</td>\n",
       "      <td>0</td>\n",
       "      <td>5</td>\n",
       "      <td>2</td>\n",
       "      <td>93</td>\n",
       "      <td>92</td>\n",
       "      <td>36.19</td>\n",
       "      <td>2</td>\n",
       "      <td>1</td>\n",
       "    </tr>\n",
       "    <tr>\n",
       "      <th>201</th>\n",
       "      <td>19.015438</td>\n",
       "      <td>29.154857</td>\n",
       "      <td>60</td>\n",
       "      <td>58</td>\n",
       "      <td>0</td>\n",
       "      <td>0</td>\n",
       "      <td>0</td>\n",
       "      <td>0</td>\n",
       "      <td>45</td>\n",
       "      <td>50</td>\n",
       "      <td>...</td>\n",
       "      <td>0</td>\n",
       "      <td>0</td>\n",
       "      <td>0</td>\n",
       "      <td>0</td>\n",
       "      <td>0</td>\n",
       "      <td>0</td>\n",
       "      <td>0</td>\n",
       "      <td>30.68</td>\n",
       "      <td>6</td>\n",
       "      <td>1</td>\n",
       "    </tr>\n",
       "  </tbody>\n",
       "</table>\n",
       "<p>202 rows × 27 columns</p>\n",
       "</div>"
      ],
      "text/plain": [
       "     Latitude    Longitude  OOSR_Pre0Primary_Age_Male  \\\n",
       "0    33.939110   67.709953                          0   \n",
       "1    41.153332   20.168331                          4   \n",
       "2    28.033886    1.659626                          0   \n",
       "3    42.506285    1.521801                          0   \n",
       "4    11.202692   17.873887                         31   \n",
       "..         ...         ...                        ...   \n",
       "197   6.423750   66.589730                         14   \n",
       "198  14.058324  108.277199                          0   \n",
       "199  15.552727   48.516388                         96   \n",
       "200  13.133897   27.849332                          0   \n",
       "201  19.015438   29.154857                         60   \n",
       "\n",
       "     OOSR_Pre0Primary_Age_Female  OOSR_Primary_Age_Male  \\\n",
       "0                              0                      0   \n",
       "1                              2                      6   \n",
       "2                              0                      0   \n",
       "3                              0                      0   \n",
       "4                             39                      0   \n",
       "..                           ...                    ...   \n",
       "197                           14                     10   \n",
       "198                            0                      0   \n",
       "199                           96                     10   \n",
       "200                            0                     17   \n",
       "201                           58                      0   \n",
       "\n",
       "     OOSR_Primary_Age_Female  OOSR_Lower_Secondary_Age_Male  \\\n",
       "0                          0                              0   \n",
       "1                          3                              6   \n",
       "2                          0                              0   \n",
       "3                          0                              0   \n",
       "4                          0                              0   \n",
       "..                       ...                            ...   \n",
       "197                       10                             15   \n",
       "198                        0                              0   \n",
       "199                       21                             23   \n",
       "200                       13                              0   \n",
       "201                        0                              0   \n",
       "\n",
       "     OOSR_Lower_Secondary_Age_Female  OOSR_Upper_Secondary_Age_Male  \\\n",
       "0                                  0                             44   \n",
       "1                                  1                             21   \n",
       "2                                  0                              0   \n",
       "3                                  0                              0   \n",
       "4                                  0                              0   \n",
       "..                               ...                            ...   \n",
       "197                               13                             28   \n",
       "198                                0                              0   \n",
       "199                               34                             46   \n",
       "200                                0                              0   \n",
       "201                                0                             45   \n",
       "\n",
       "     OOSR_Upper_Secondary_Age_Female  ...  Grade_2_3_Proficiency_Math  \\\n",
       "0                                 69  ...                          25   \n",
       "1                                 15  ...                           0   \n",
       "2                                  0  ...                           0   \n",
       "3                                  0  ...                           0   \n",
       "4                                  0  ...                           0   \n",
       "..                               ...  ...                         ...   \n",
       "197                               19  ...                           0   \n",
       "198                                0  ...                           0   \n",
       "199                               68  ...                           0   \n",
       "200                                0  ...                           0   \n",
       "201                               50  ...                           0   \n",
       "\n",
       "     Primary_End_Proficiency_Reading  Primary_End_Proficiency_Math  \\\n",
       "0                                 13                            11   \n",
       "1                                  0                             0   \n",
       "2                                  0                             0   \n",
       "3                                  0                             0   \n",
       "4                                  0                             0   \n",
       "..                               ...                           ...   \n",
       "197                                0                             0   \n",
       "198                               55                            51   \n",
       "199                                0                             0   \n",
       "200                                0                             0   \n",
       "201                                0                             0   \n",
       "\n",
       "     Lower_Secondary_End_Proficiency_Reading  \\\n",
       "0                                          0   \n",
       "1                                         48   \n",
       "2                                         21   \n",
       "3                                          0   \n",
       "4                                          0   \n",
       "..                                       ...   \n",
       "197                                        0   \n",
       "198                                       86   \n",
       "199                                        0   \n",
       "200                                        5   \n",
       "201                                        0   \n",
       "\n",
       "     Lower_Secondary_End_Proficiency_Math  Youth_15_24_Literacy_Rate_Male  \\\n",
       "0                                       0                              74   \n",
       "1                                      58                              99   \n",
       "2                                      19                              98   \n",
       "3                                       0                               0   \n",
       "4                                       0                               0   \n",
       "..                                    ...                             ...   \n",
       "197                                     0                               0   \n",
       "198                                    81                              98   \n",
       "199                                     0                               0   \n",
       "200                                     2                              93   \n",
       "201                                     0                               0   \n",
       "\n",
       "     Youth_15_24_Literacy_Rate_Female  Birth_Rate  \\\n",
       "0                                  56       32.49   \n",
       "1                                 100       11.78   \n",
       "2                                  97       24.28   \n",
       "3                                   0        7.20   \n",
       "4                                   0       40.73   \n",
       "..                                ...         ...   \n",
       "197                                 0       17.88   \n",
       "198                                98       16.75   \n",
       "199                                 0       30.45   \n",
       "200                                92       36.19   \n",
       "201                                 0       30.68   \n",
       "\n",
       "     Gross_Primary_Education_Enrollment  Gross_Tertiary_Education_Enrollment  \n",
       "0                                     6                                    1  \n",
       "1                                     6                                    6  \n",
       "2                                     6                                    6  \n",
       "3                                     6                                    1  \n",
       "4                                     6                                    1  \n",
       "..                                  ...                                  ...  \n",
       "197                                   2                                    5  \n",
       "198                                   6                                    3  \n",
       "199                                   2                                    1  \n",
       "200                                   2                                    1  \n",
       "201                                   6                                    1  \n",
       "\n",
       "[202 rows x 27 columns]"
      ]
     },
     "execution_count": 14,
     "metadata": {},
     "output_type": "execute_result"
    }
   ],
   "source": [
    "df_clustering_inputlist"
   ]
  },
  {
   "cell_type": "code",
   "execution_count": 15,
   "metadata": {},
   "outputs": [
    {
     "data": {
      "image/png": "[encoded data removed]",
      "text/plain": [
       "<Figure size 720x576 with 2 Axes>"
      ]
     },
     "metadata": {
      "needs_background": "light"
     },
     "output_type": "display_data"
    }
   ],
   "source": [
    "# Create a 3D plot\n",
    "fig = plt.figure(figsize=(10, 8))\n",
    "ax = fig.add_subplot(111, projection='3d')\n",
    "\n",
    "# Scatter plot with colors based on 'k_means' column\n",
    "scatter = ax.scatter(df_clustering_inputlist['Youth_15_24_Literacy_Rate_Male'], df_clustering_inputlist['Gross_Primary_Education_Enrollment'], df_clustering_inputlist['Birth_Rate'], c=df['KMeans'], cmap='viridis')\n",
    "\n",
    "# Add color bar\n",
    "color_bar = fig.colorbar(scatter, ax=ax)\n",
    "color_bar.set_label('k_means')\n",
    "\n",
    "# Set axis labels\n",
    "ax.set_xlabel('Youth_15_24_Literacy_Rate_Male')\n",
    "ax.set_ylabel('Gross_Primary_Education_Enrollment')\n",
    "ax.set_zlabel('Birth_Rate')\n",
    "\n",
    "# Show the plot\n",
    "plt.show()"
   ]
  },
  {
   "cell_type": "code",
   "execution_count": 16,
   "metadata": {},
   "outputs": [
    {
     "data": {
      "application/vnd.plotly.v1+json": {
       "config": {
        "plotlyServerURL": "https://plot.ly"
       },
       "data": [
        {
         "hovertemplate": "Youth_15_24_Literacy_Rate_Male=%{x}<br>Gross_Primary_Education_Enrollment=%{y}<br>Birth_Rate=%{z}<br>KMeans=%{marker.color}<extra></extra>",
         "legendgroup": "",
         "marker": {
          "color": [
           2,
           2,
           2,
           6,
           6,
           6,
           6,
           5,
           6,
           1,
           4,
           6,
           6,
           2,
           5,
           6,
           2,
           4,
           3,
           0,
           3,
           6,
           6,
           6,
           5,
           6,
           2,
           4,
           0,
           0,
           6,
           3,
           0,
           1,
           6,
           0,
           1,
           5,
           5,
           0,
           2,
           3,
           5,
           0,
           4,
           6,
           1,
           1,
           3,
           6,
           1,
           0,
           6,
           6,
           1,
           6,
           2,
           6,
           0,
           4,
           2,
           0,
           3,
           1,
           4,
           2,
           6,
           1,
           4,
           2,
           2,
           6,
           3,
           0,
           6,
           6,
           6,
           6,
           5,
           4,
           4,
           5,
           2,
           6,
           6,
           1,
           1,
           5,
           6,
           1,
           2,
           5,
           2,
           3,
           2,
           2,
           3,
           5,
           2,
           6,
           6,
           6,
           6,
           4,
           4,
           0,
           6,
           2,
           6,
           0,
           5,
           3,
           6,
           2,
           5,
           3,
           6,
           2,
           2,
           6,
           2,
           6,
           3,
           2,
           3,
           2,
           1,
           1,
           6,
           0,
           2,
           3,
           6,
           1,
           2,
           6,
           3,
           5,
           3,
           5,
           5,
           3,
           1,
           5,
           1,
           1,
           4,
           2,
           5,
           2,
           6,
           6,
           6,
           2,
           2,
           2,
           6,
           6,
           4,
           2,
           0,
           5,
           4,
           1,
           3,
           6,
           6,
           0,
           5,
           2,
           2,
           0,
           2,
           1,
           4,
           0,
           6,
           2,
           2,
           6,
           3,
           2,
           1,
           6,
           4,
           6,
           6,
           3,
           2,
           4,
           1,
           4,
           0,
           4,
           5,
           2,
           2,
           6,
           5,
           0,
           2,
           6
          ],
          "coloraxis": "coloraxis",
          "symbol": "circle"
         },
         "mode": "markers",
         "name": "",
         "scene": "scene",
         "showlegend": false,
         "type": "scatter3d",
         "x": [
          74,
          99,
          98,
          0,
          0,
          0,
          0,
          99,
          0,
          0,
          0,
          0,
          0,
          100,
          94,
          0,
          100,
          0,
          0,
          70,
          0,
          0,
          0,
          0,
          99,
          0,
          100,
          0,
          62,
          0,
          0,
          0,
          88,
          0,
          48,
          0,
          0,
          100,
          99,
          78,
          85,
          0,
          99,
          64,
          0,
          0,
          0,
          0,
          0,
          0,
          0,
          0,
          0,
          0,
          0,
          0,
          98,
          0,
          94,
          0,
          94,
          0,
          0,
          0,
          0,
          88,
          0,
          0,
          0,
          93,
          99,
          0,
          0,
          70,
          0,
          0,
          0,
          0,
          95,
          0,
          0,
          93,
          100,
          0,
          0,
          0,
          0,
          100,
          0,
          0,
          99,
          100,
          88,
          0,
          99,
          100,
          0,
          100,
          100,
          0,
          0,
          0,
          0,
          0,
          0,
          82,
          0,
          97,
          0,
          58,
          99,
          0,
          0,
          99,
          99,
          0,
          0,
          98,
          99,
          0,
          98,
          0,
          0,
          94,
          0,
          94,
          0,
          0,
          0,
          51,
          82,
          0,
          0,
          0,
          98,
          0,
          0,
          99,
          0,
          98,
          99,
          0,
          0,
          100,
          0,
          0,
          0,
          99,
          100,
          84,
          0,
          0,
          0,
          99,
          100,
          98,
          0,
          0,
          0,
          99,
          71,
          100,
          0,
          0,
          0,
          0,
          0,
          48,
          100,
          99,
          99,
          73,
          99,
          0,
          0,
          0,
          0,
          98,
          82,
          0,
          0,
          99,
          0,
          0,
          0,
          0,
          0,
          0,
          89,
          0,
          0,
          0,
          0,
          0,
          99,
          100,
          96,
          0,
          98,
          0,
          93,
          0
         ],
         "y": [
          6,
          6,
          6,
          6,
          6,
          1,
          6,
          6,
          2,
          2,
          6,
          2,
          4,
          2,
          0,
          2,
          2,
          6,
          6,
          0,
          2,
          2,
          1,
          6,
          6,
          1,
          6,
          2,
          2,
          0,
          6,
          6,
          6,
          2,
          6,
          4,
          2,
          2,
          6,
          2,
          6,
          1,
          6,
          2,
          2,
          6,
          2,
          2,
          6,
          6,
          2,
          4,
          6,
          6,
          6,
          6,
          2,
          3,
          3,
          2,
          1,
          2,
          6,
          2,
          6,
          5,
          2,
          2,
          6,
          6,
          2,
          6,
          6,
          2,
          0,
          2,
          6,
          1,
          2,
          2,
          2,
          6,
          6,
          6,
          6,
          2,
          6,
          6,
          2,
          2,
          4,
          6,
          6,
          2,
          2,
          6,
          6,
          2,
          2,
          0,
          4,
          6,
          6,
          6,
          6,
          5,
          5,
          6,
          2,
          4,
          6,
          4,
          2,
          2,
          6,
          2,
          1,
          6,
          2,
          1,
          6,
          6,
          6,
          0,
          1,
          5,
          6,
          2,
          0,
          4,
          4,
          1,
          1,
          2,
          6,
          2,
          6,
          2,
          6,
          6,
          6,
          6,
          2,
          6,
          6,
          2,
          2,
          4,
          6,
          5,
          6,
          6,
          6,
          6,
          6,
          6,
          2,
          4,
          2,
          2,
          6,
          2,
          2,
          2,
          6,
          7,
          2,
          4,
          6,
          2,
          1,
          4,
          6,
          0,
          6,
          4,
          2,
          2,
          6,
          0,
          1,
          0,
          6,
          6,
          2,
          2,
          1,
          1,
          6,
          2,
          6,
          2,
          2,
          6,
          6,
          6,
          6,
          2,
          6,
          2,
          2,
          6
         ],
         "z": [
          32.49,
          11.78,
          24.28,
          7.2,
          40.73,
          0,
          15.33,
          17.02,
          13.99,
          12.6,
          9.7,
          14,
          13.97,
          13.99,
          18.18,
          10.65,
          9.9,
          10.3,
          20.79,
          36.22,
          17.26,
          21.75,
          8.11,
          24.82,
          13.92,
          0,
          14.9,
          8.9,
          37.93,
          39.01,
          19.49,
          22.46,
          35.39,
          10.1,
          35.35,
          42.17,
          12.43,
          10.9,
          14.88,
          31.88,
          32.86,
          0,
          13.97,
          35.74,
          9,
          10.17,
          10.46,
          10.7,
          13.89,
          41.18,
          10.6,
          21.47,
          12,
          19.51,
          19.72,
          26.38,
          18.25,
          33.24,
          30.3,
          10.9,
          0,
          32.34,
          21.28,
          8.6,
          11.3,
          31.61,
          38.54,
          13.47,
          9.5,
          29.41,
          8.1,
          16.47,
          24.56,
          36.36,
          35.13,
          19.97,
          24.35,
          0,
          21.6,
          9.6,
          12,
          17.86,
          18.07,
          18.78,
          29.08,
          12.5,
          20.8,
          7.3,
          16.1,
          7.4,
          21.98,
          21.77,
          28.75,
          27.89,
          13.94,
          27.1,
          23.55,
          10,
          17.55,
          26.81,
          33.04,
          18.83,
          9.9,
          10,
          10.3,
          32.66,
          34.12,
          16.75,
          14.2,
          41.54,
          9.2,
          29.03,
          33.69,
          10.2,
          17.6,
          22.82,
          5.9,
          24.13,
          11.73,
          0,
          18.94,
          37.52,
          17.55,
          28.64,
          0,
          19.89,
          9.7,
          11.98,
          20.64,
          46.08,
          37.91,
          0,
          0,
          10.4,
          19.19,
          28.25,
          14,
          18.98,
          27.07,
          20.57,
          17.95,
          20.55,
          10.2,
          8.5,
          9.54,
          6.4,
          10.1,
          9.6,
          11.5,
          31.7,
          12.6,
          12,
          14.24,
          24.38,
          6.8,
          31.54,
          17.8,
          34.52,
          9.2,
          17.1,
          33.41,
          8.8,
          10.6,
          9.4,
          32.44,
          41.75,
          20.51,
          35.01,
          7.9,
          15.83,
          0,
          32.18,
          18.54,
          11.4,
          10,
          23.69,
          30.76,
          10.34,
          29.42,
          33.11,
          0,
          24.3,
          12.94,
          17.56,
          16.03,
          23.83,
          0,
          0,
          38.14,
          8.7,
          10.33,
          11,
          36.7,
          11.6,
          13.86,
          23.3,
          29.6,
          17.88,
          16.75,
          30.45,
          36.19,
          30.68
         ]
        }
       ],
       "layout": {
        "coloraxis": {
         "colorbar": {
          "title": {
           "text": "KMeans"
          }
         },
         "colorscale": [
          [
           0,
           "#0d0887"
          ],
          [
           0.1111111111111111,
           "#46039f"
          ],
          [
           0.2222222222222222,
           "#7201a8"
          ],
          [
           0.3333333333333333,
           "#9c179e"
          ],
          [
           0.4444444444444444,
           "#bd3786"
          ],
          [
           0.5555555555555556,
           "#d8576b"
          ],
          [
           0.6666666666666666,
           "#ed7953"
          ],
          [
           0.7777777777777778,
           "#fb9f3a"
          ],
          [
           0.8888888888888888,
           "#fdca26"
          ],
          [
           1,
           "#f0f921"
          ]
         ]
        },
        "legend": {
         "tracegroupgap": 0
        },
        "margin": {
         "t": 60
        },
        "scene": {
         "domain": {
          "x": [
           0,
           1
          ],
          "y": [
           0,
           1
          ]
         },
         "xaxis": {
          "title": {
           "text": "Youth_15_24_Literacy_Rate_Male"
          }
         },
         "yaxis": {
          "title": {
           "text": "Gross_Primary_Education_Enrollment"
          }
         },
         "zaxis": {
          "title": {
           "text": "Birth_Rate"
          }
         }
        },
        "template": {
         "data": {
          "bar": [
           {
            "error_x": {
             "color": "#2a3f5f"
            },
            "error_y": {
             "color": "#2a3f5f"
            },
            "marker": {
             "line": {
              "color": "#E5ECF6",
              "width": 0.5
             },
             "pattern": {
              "fillmode": "overlay",
              "size": 10,
              "solidity": 0.2
             }
            },
            "type": "bar"
           }
          ],
          "barpolar": [
           {
            "marker": {
             "line": {
              "color": "#E5ECF6",
              "width": 0.5
             },
             "pattern": {
              "fillmode": "overlay",
              "size": 10,
              "solidity": 0.2
             }
            },
            "type": "barpolar"
           }
          ],
          "carpet": [
           {
            "aaxis": {
             "endlinecolor": "#2a3f5f",
             "gridcolor": "white",
             "linecolor": "white",
             "minorgridcolor": "white",
             "startlinecolor": "#2a3f5f"
            },
            "baxis": {
             "endlinecolor": "#2a3f5f",
             "gridcolor": "white",
             "linecolor": "white",
             "minorgridcolor": "white",
             "startlinecolor": "#2a3f5f"
            },
            "type": "carpet"
           }
          ],
          "choropleth": [
           {
            "colorbar": {
             "outlinewidth": 0,
             "ticks": ""
            },
            "type": "choropleth"
           }
          ],
          "contour": [
           {
            "colorbar": {
             "outlinewidth": 0,
             "ticks": ""
            },
            "colorscale": [
             [
              0,
              "#0d0887"
             ],
             [
              0.1111111111111111,
              "#46039f"
             ],
             [
              0.2222222222222222,
              "#7201a8"
             ],
             [
              0.3333333333333333,
              "#9c179e"
             ],
             [
              0.4444444444444444,
              "#bd3786"
             ],
             [
              0.5555555555555556,
              "#d8576b"
             ],
             [
              0.6666666666666666,
              "#ed7953"
             ],
             [
              0.7777777777777778,
              "#fb9f3a"
             ],
             [
              0.8888888888888888,
              "#fdca26"
             ],
             [
              1,
              "#f0f921"
             ]
            ],
            "type": "contour"
           }
          ],
          "contourcarpet": [
           {
            "colorbar": {
             "outlinewidth": 0,
             "ticks": ""
            },
            "type": "contourcarpet"
           }
          ],
          "heatmap": [
           {
            "colorbar": {
             "outlinewidth": 0,
             "ticks": ""
            },
            "colorscale": [
             [
              0,
              "#0d0887"
             ],
             [
              0.1111111111111111,
              "#46039f"
             ],
             [
              0.2222222222222222,
              "#7201a8"
             ],
             [
              0.3333333333333333,
              "#9c179e"
             ],
             [
              0.4444444444444444,
              "#bd3786"
             ],
             [
              0.5555555555555556,
              "#d8576b"
             ],
             [
              0.6666666666666666,
              "#ed7953"
             ],
             [
              0.7777777777777778,
              "#fb9f3a"
             ],
             [
              0.8888888888888888,
              "#fdca26"
             ],
             [
              1,
              "#f0f921"
             ]
            ],
            "type": "heatmap"
           }
          ],
          "heatmapgl": [
           {
            "colorbar": {
             "outlinewidth": 0,
             "ticks": ""
            },
            "colorscale": [
             [
              0,
              "#0d0887"
             ],
             [
              0.1111111111111111,
              "#46039f"
             ],
             [
              0.2222222222222222,
              "#7201a8"
             ],
             [
              0.3333333333333333,
              "#9c179e"
             ],
             [
              0.4444444444444444,
              "#bd3786"
             ],
             [
              0.5555555555555556,
              "#d8576b"
             ],
             [
              0.6666666666666666,
              "#ed7953"
             ],
             [
              0.7777777777777778,
              "#fb9f3a"
             ],
             [
              0.8888888888888888,
              "#fdca26"
             ],
             [
              1,
              "#f0f921"
             ]
            ],
            "type": "heatmapgl"
           }
          ],
          "histogram": [
           {
            "marker": {
             "pattern": {
              "fillmode": "overlay",
              "size": 10,
              "solidity": 0.2
             }
            },
            "type": "histogram"
           }
          ],
          "histogram2d": [
           {
            "colorbar": {
             "outlinewidth": 0,
             "ticks": ""
            },
            "colorscale": [
             [
              0,
              "#0d0887"
             ],
             [
              0.1111111111111111,
              "#46039f"
             ],
             [
              0.2222222222222222,
              "#7201a8"
             ],
             [
              0.3333333333333333,
              "#9c179e"
             ],
             [
              0.4444444444444444,
              "#bd3786"
             ],
             [
              0.5555555555555556,
              "#d8576b"
             ],
             [
              0.6666666666666666,
              "#ed7953"
             ],
             [
              0.7777777777777778,
              "#fb9f3a"
             ],
             [
              0.8888888888888888,
              "#fdca26"
             ],
             [
              1,
              "#f0f921"
             ]
            ],
            "type": "histogram2d"
           }
          ],
          "histogram2dcontour": [
           {
            "colorbar": {
             "outlinewidth": 0,
             "ticks": ""
            },
            "colorscale": [
             [
              0,
              "#0d0887"
             ],
             [
              0.1111111111111111,
              "#46039f"
             ],
             [
              0.2222222222222222,
              "#7201a8"
             ],
             [
              0.3333333333333333,
              "#9c179e"
             ],
             [
              0.4444444444444444,
              "#bd3786"
             ],
             [
              0.5555555555555556,
              "#d8576b"
             ],
             [
              0.6666666666666666,
              "#ed7953"
             ],
             [
              0.7777777777777778,
              "#fb9f3a"
             ],
             [
              0.8888888888888888,
              "#fdca26"
             ],
             [
              1,
              "#f0f921"
             ]
            ],
            "type": "histogram2dcontour"
           }
          ],
          "mesh3d": [
           {
            "colorbar": {
             "outlinewidth": 0,
             "ticks": ""
            },
            "type": "mesh3d"
           }
          ],
          "parcoords": [
           {
            "line": {
             "colorbar": {
              "outlinewidth": 0,
              "ticks": ""
             }
            },
            "type": "parcoords"
           }
          ],
          "pie": [
           {
            "automargin": true,
            "type": "pie"
           }
          ],
          "scatter": [
           {
            "marker": {
             "colorbar": {
              "outlinewidth": 0,
              "ticks": ""
             }
            },
            "type": "scatter"
           }
          ],
          "scatter3d": [
           {
            "line": {
             "colorbar": {
              "outlinewidth": 0,
              "ticks": ""
             }
            },
            "marker": {
             "colorbar": {
              "outlinewidth": 0,
              "ticks": ""
             }
            },
            "type": "scatter3d"
           }
          ],
          "scattercarpet": [
           {
            "marker": {
             "colorbar": {
              "outlinewidth": 0,
              "ticks": ""
             }
            },
            "type": "scattercarpet"
           }
          ],
          "scattergeo": [
           {
            "marker": {
             "colorbar": {
              "outlinewidth": 0,
              "ticks": ""
             }
            },
            "type": "scattergeo"
           }
          ],
          "scattergl": [
           {
            "marker": {
             "colorbar": {
              "outlinewidth": 0,
              "ticks": ""
             }
            },
            "type": "scattergl"
           }
          ],
          "scattermapbox": [
           {
            "marker": {
             "colorbar": {
              "outlinewidth": 0,
              "ticks": ""
             }
            },
            "type": "scattermapbox"
           }
          ],
          "scatterpolar": [
           {
            "marker": {
             "colorbar": {
              "outlinewidth": 0,
              "ticks": ""
             }
            },
            "type": "scatterpolar"
           }
          ],
          "scatterpolargl": [
           {
            "marker": {
             "colorbar": {
              "outlinewidth": 0,
              "ticks": ""
             }
            },
            "type": "scatterpolargl"
           }
          ],
          "scatterternary": [
           {
            "marker": {
             "colorbar": {
              "outlinewidth": 0,
              "ticks": ""
             }
            },
            "type": "scatterternary"
           }
          ],
          "surface": [
           {
            "colorbar": {
             "outlinewidth": 0,
             "ticks": ""
            },
            "colorscale": [
             [
              0,
              "#0d0887"
             ],
             [
              0.1111111111111111,
              "#46039f"
             ],
             [
              0.2222222222222222,
              "#7201a8"
             ],
             [
              0.3333333333333333,
              "#9c179e"
             ],
             [
              0.4444444444444444,
              "#bd3786"
             ],
             [
              0.5555555555555556,
              "#d8576b"
             ],
             [
              0.6666666666666666,
              "#ed7953"
             ],
             [
              0.7777777777777778,
              "#fb9f3a"
             ],
             [
              0.8888888888888888,
              "#fdca26"
             ],
             [
              1,
              "#f0f921"
             ]
            ],
            "type": "surface"
           }
          ],
          "table": [
           {
            "cells": {
             "fill": {
              "color": "#EBF0F8"
             },
             "line": {
              "color": "white"
             }
            },
            "header": {
             "fill": {
              "color": "#C8D4E3"
             },
             "line": {
              "color": "white"
             }
            },
            "type": "table"
           }
          ]
         },
         "layout": {
          "annotationdefaults": {
           "arrowcolor": "#2a3f5f",
           "arrowhead": 0,
           "arrowwidth": 1
          },
          "autotypenumbers": "strict",
          "coloraxis": {
           "colorbar": {
            "outlinewidth": 0,
            "ticks": ""
           }
          },
          "colorscale": {
           "diverging": [
            [
             0,
             "#8e0152"
            ],
            [
             0.1,
             "#c51b7d"
            ],
            [
             0.2,
             "#de77ae"
            ],
            [
             0.3,
             "#f1b6da"
            ],
            [
             0.4,
             "#fde0ef"
            ],
            [
             0.5,
             "#f7f7f7"
            ],
            [
             0.6,
             "#e6f5d0"
            ],
            [
             0.7,
             "#b8e186"
            ],
            [
             0.8,
             "#7fbc41"
            ],
            [
             0.9,
             "#4d9221"
            ],
            [
             1,
             "#276419"
            ]
           ],
           "sequential": [
            [
             0,
             "#0d0887"
            ],
            [
             0.1111111111111111,
             "#46039f"
            ],
            [
             0.2222222222222222,
             "#7201a8"
            ],
            [
             0.3333333333333333,
             "#9c179e"
            ],
            [
             0.4444444444444444,
             "#bd3786"
            ],
            [
             0.5555555555555556,
             "#d8576b"
            ],
            [
             0.6666666666666666,
             "#ed7953"
            ],
            [
             0.7777777777777778,
             "#fb9f3a"
            ],
            [
             0.8888888888888888,
             "#fdca26"
            ],
            [
             1,
             "#f0f921"
            ]
           ],
           "sequentialminus": [
            [
             0,
             "#0d0887"
            ],
            [
             0.1111111111111111,
             "#46039f"
            ],
            [
             0.2222222222222222,
             "#7201a8"
            ],
            [
             0.3333333333333333,
             "#9c179e"
            ],
            [
             0.4444444444444444,
             "#bd3786"
            ],
            [
             0.5555555555555556,
             "#d8576b"
            ],
            [
             0.6666666666666666,
             "#ed7953"
            ],
            [
             0.7777777777777778,
             "#fb9f3a"
            ],
            [
             0.8888888888888888,
             "#fdca26"
            ],
            [
             1,
             "#f0f921"
            ]
           ]
          },
          "colorway": [
           "#636efa",
           "#EF553B",
           "#00cc96",
           "#ab63fa",
           "#FFA15A",
           "#19d3f3",
           "#FF6692",
           "#B6E880",
           "#FF97FF",
           "#FECB52"
          ],
          "font": {
           "color": "#2a3f5f"
          },
          "geo": {
           "bgcolor": "white",
           "lakecolor": "white",
           "landcolor": "#E5ECF6",
           "showlakes": true,
           "showland": true,
           "subunitcolor": "white"
          },
          "hoverlabel": {
           "align": "left"
          },
          "hovermode": "closest",
          "mapbox": {
           "style": "light"
          },
          "paper_bgcolor": "white",
          "plot_bgcolor": "#E5ECF6",
          "polar": {
           "angularaxis": {
            "gridcolor": "white",
            "linecolor": "white",
            "ticks": ""
           },
           "bgcolor": "#E5ECF6",
           "radialaxis": {
            "gridcolor": "white",
            "linecolor": "white",
            "ticks": ""
           }
          },
          "scene": {
           "xaxis": {
            "backgroundcolor": "#E5ECF6",
            "gridcolor": "white",
            "gridwidth": 2,
            "linecolor": "white",
            "showbackground": true,
            "ticks": "",
            "zerolinecolor": "white"
           },
           "yaxis": {
            "backgroundcolor": "#E5ECF6",
            "gridcolor": "white",
            "gridwidth": 2,
            "linecolor": "white",
            "showbackground": true,
            "ticks": "",
            "zerolinecolor": "white"
           },
           "zaxis": {
            "backgroundcolor": "#E5ECF6",
            "gridcolor": "white",
            "gridwidth": 2,
            "linecolor": "white",
            "showbackground": true,
            "ticks": "",
            "zerolinecolor": "white"
           }
          },
          "shapedefaults": {
           "line": {
            "color": "#2a3f5f"
           }
          },
          "ternary": {
           "aaxis": {
            "gridcolor": "white",
            "linecolor": "white",
            "ticks": ""
           },
           "baxis": {
            "gridcolor": "white",
            "linecolor": "white",
            "ticks": ""
           },
           "bgcolor": "#E5ECF6",
           "caxis": {
            "gridcolor": "white",
            "linecolor": "white",
            "ticks": ""
           }
          },
          "title": {
           "x": 0.05
          },
          "xaxis": {
           "automargin": true,
           "gridcolor": "white",
           "linecolor": "white",
           "ticks": "",
           "title": {
            "standoff": 15
           },
           "zerolinecolor": "white",
           "zerolinewidth": 2
          },
          "yaxis": {
           "automargin": true,
           "gridcolor": "white",
           "linecolor": "white",
           "ticks": "",
           "title": {
            "standoff": 15
           },
           "zerolinecolor": "white",
           "zerolinewidth": 2
          }
         }
        }
       }
      }
     },
     "metadata": {},
     "output_type": "display_data"
    }
   ],
   "source": [
    "import plotly.express as px\n",
    "\n",
    "fig = px.scatter_3d(df, x='Youth_15_24_Literacy_Rate_Male', y='Gross_Primary_Education_Enrollment', z='Birth_Rate',\n",
    "              color='KMeans')\n",
    "fig.show()"
   ]
  },
  {
   "cell_type": "markdown",
   "metadata": {},
   "source": [
    "# DBSCAN"
   ]
  },
  {
   "cell_type": "code",
   "execution_count": 17,
   "metadata": {},
   "outputs": [],
   "source": [
    "from sklearn.model_selection import ParameterGrid\n",
    "from sklearn.cluster import DBSCAN"
   ]
  },
  {
   "cell_type": "code",
   "execution_count": 18,
   "metadata": {},
   "outputs": [
    {
     "name": "stdout",
     "output_type": "stream",
     "text": [
      "Parameter Terbaik:\n",
      "eps: 11\n",
      "min_samples: 3\n",
      "Silhouette Score: -0.1493720773245242\n"
     ]
    }
   ],
   "source": [
    "# Parameter grid untuk dicari\n",
    "param_grid = {\n",
    "    'eps': np.arange(1, 20, 1),         # Sesuaikan rentang sesuai kebutuhan\n",
    "    'min_samples': np.arange(2, 20, 1)  # Sesuaikan rentang sesuai kebutuhan\n",
    "}\n",
    "\n",
    "best_score = -1\n",
    "best_params = None\n",
    "\n",
    "# Melakukan Grid Search\n",
    "for params in ParameterGrid(param_grid):\n",
    "    dbscan_model = DBSCAN(eps=params['eps'], min_samples=params['min_samples'])\n",
    "    labels = dbscan_model.fit_predict(df_clustering_inputlist)\n",
    "\n",
    "    # Hanya hitung Silhouette Score jika terdapat lebih dari satu label\n",
    "    unique_labels = np.unique(labels)\n",
    "\n",
    "    if len(unique_labels) > 2:\n",
    "        # Silhouette Score sebagai metrik evaluasi\n",
    "        score = silhouette_score(df_clustering_inputlist,labels)\n",
    "\n",
    "        # Memperbarui parameter terbaik jika mendapatkan skor yang lebih baik\n",
    "        if score > best_score:\n",
    "            best_score = score\n",
    "            best_params = params\n",
    "\n",
    "print(\"Parameter Terbaik:\")\n",
    "print(\"eps:\", best_params['eps'])\n",
    "print(\"min_samples:\", best_params['min_samples'])\n",
    "print(\"Silhouette Score:\", best_score)\n",
    "DBSCAN_sihlouette_score = best_score"
   ]
  },
  {
   "cell_type": "code",
   "execution_count": 19,
   "metadata": {},
   "outputs": [],
   "source": [
    "dbscan_model = DBSCAN(eps=best_params['eps'], min_samples=best_params['min_samples'])  # Sesuaikan nilai eps dan min_samples sesuai kebutuhan\n",
    "df['DBSCAN'] = dbscan_model.fit_predict(df_clustering_inputlist)"
   ]
  },
  {
   "cell_type": "code",
   "execution_count": 20,
   "metadata": {},
   "outputs": [
    {
     "name": "stdout",
     "output_type": "stream",
     "text": [
      "Number of unique values in 'DBSCAN' column: 3\n"
     ]
    }
   ],
   "source": [
    "unique_value_count = df['DBSCAN'].nunique()\n",
    "print(\"Number of unique values in 'DBSCAN' column:\", unique_value_count)"
   ]
  },
  {
   "cell_type": "code",
   "execution_count": 21,
   "metadata": {},
   "outputs": [
    {
     "data": {
      "image/png": "[encoded data removed]",
      "text/plain": [
       "<Figure size 720x576 with 2 Axes>"
      ]
     },
     "metadata": {
      "needs_background": "light"
     },
     "output_type": "display_data"
    }
   ],
   "source": [
    "# Create a 3D plot\n",
    "fig = plt.figure(figsize=(10, 8))\n",
    "ax = fig.add_subplot(111, projection='3d')\n",
    "\n",
    "# Scatter plot with colors based on 'k_means' column\n",
    "scatter = ax.scatter(df_clustering_inputlist['Youth_15_24_Literacy_Rate_Male'], df_clustering_inputlist['Gross_Primary_Education_Enrollment'], df_clustering_inputlist['Birth_Rate'], c=df['DBSCAN'], cmap='viridis')\n",
    "\n",
    "\n",
    "# Add color bar\n",
    "color_bar = fig.colorbar(scatter, ax=ax)\n",
    "color_bar.set_label('DBSCAN')\n",
    "\n",
    "# Set axis labels\n",
    "ax.set_xlabel('Youth_15_24_Literacy_Rate_Male')\n",
    "ax.set_ylabel('Gross_Primary_Education_Enrollment')\n",
    "ax.set_zlabel('Birth_Rate')\n",
    "\n",
    "# Show the plot\n",
    "plt.show()"
   ]
  },
  {
   "cell_type": "code",
   "execution_count": 22,
   "metadata": {},
   "outputs": [
    {
     "data": {
      "application/vnd.plotly.v1+json": {
       "config": {
        "plotlyServerURL": "https://plot.ly"
       },
       "data": [
        {
         "hovertemplate": "Youth_15_24_Literacy_Rate_Male=%{x}<br>Gross_Primary_Education_Enrollment=%{y}<br>Birth_Rate=%{z}<br>DBSCAN=%{marker.color}<extra></extra>",
         "legendgroup": "",
         "marker": {
          "color": [
           -1,
           -1,
           -1,
           0,
           -1,
           -1,
           -1,
           -1,
           -1,
           -1,
           -1,
           -1,
           -1,
           -1,
           -1,
           -1,
           -1,
           -1,
           -1,
           -1,
           -1,
           -1,
           -1,
           -1,
           -1,
           -1,
           -1,
           -1,
           -1,
           -1,
           -1,
           -1,
           -1,
           -1,
           -1,
           -1,
           -1,
           -1,
           -1,
           -1,
           -1,
           -1,
           -1,
           -1,
           -1,
           -1,
           -1,
           1,
           -1,
           -1,
           -1,
           -1,
           -1,
           -1,
           -1,
           -1,
           -1,
           -1,
           -1,
           -1,
           -1,
           -1,
           -1,
           -1,
           -1,
           -1,
           -1,
           -1,
           -1,
           -1,
           -1,
           -1,
           -1,
           -1,
           -1,
           -1,
           -1,
           0,
           -1,
           -1,
           -1,
           -1,
           -1,
           -1,
           -1,
           -1,
           -1,
           -1,
           -1,
           -1,
           -1,
           -1,
           -1,
           -1,
           -1,
           -1,
           -1,
           -1,
           -1,
           -1,
           -1,
           -1,
           -1,
           -1,
           -1,
           -1,
           -1,
           -1,
           -1,
           -1,
           -1,
           -1,
           -1,
           -1,
           -1,
           -1,
           0,
           -1,
           -1,
           -1,
           -1,
           -1,
           -1,
           -1,
           -1,
           -1,
           -1,
           -1,
           -1,
           -1,
           -1,
           -1,
           -1,
           -1,
           -1,
           -1,
           -1,
           -1,
           -1,
           -1,
           -1,
           -1,
           1,
           -1,
           -1,
           -1,
           -1,
           -1,
           -1,
           -1,
           -1,
           -1,
           -1,
           -1,
           -1,
           -1,
           -1,
           -1,
           -1,
           -1,
           -1,
           -1,
           -1,
           1,
           -1,
           -1,
           -1,
           -1,
           -1,
           -1,
           -1,
           -1,
           -1,
           -1,
           -1,
           -1,
           -1,
           -1,
           -1,
           -1,
           -1,
           -1,
           -1,
           -1,
           -1,
           -1,
           -1,
           -1,
           -1,
           -1,
           -1,
           -1,
           -1,
           -1,
           -1,
           -1,
           -1,
           -1,
           -1,
           -1,
           -1,
           -1
          ],
          "coloraxis": "coloraxis",
          "symbol": "circle"
         },
         "mode": "markers",
         "name": "",
         "scene": "scene",
         "showlegend": false,
         "type": "scatter3d",
         "x": [
          74,
          99,
          98,
          0,
          0,
          0,
          0,
          99,
          0,
          0,
          0,
          0,
          0,
          100,
          94,
          0,
          100,
          0,
          0,
          70,
          0,
          0,
          0,
          0,
          99,
          0,
          100,
          0,
          62,
          0,
          0,
          0,
          88,
          0,
          48,
          0,
          0,
          100,
          99,
          78,
          85,
          0,
          99,
          64,
          0,
          0,
          0,
          0,
          0,
          0,
          0,
          0,
          0,
          0,
          0,
          0,
          98,
          0,
          94,
          0,
          94,
          0,
          0,
          0,
          0,
          88,
          0,
          0,
          0,
          93,
          99,
          0,
          0,
          70,
          0,
          0,
          0,
          0,
          95,
          0,
          0,
          93,
          100,
          0,
          0,
          0,
          0,
          100,
          0,
          0,
          99,
          100,
          88,
          0,
          99,
          100,
          0,
          100,
          100,
          0,
          0,
          0,
          0,
          0,
          0,
          82,
          0,
          97,
          0,
          58,
          99,
          0,
          0,
          99,
          99,
          0,
          0,
          98,
          99,
          0,
          98,
          0,
          0,
          94,
          0,
          94,
          0,
          0,
          0,
          51,
          82,
          0,
          0,
          0,
          98,
          0,
          0,
          99,
          0,
          98,
          99,
          0,
          0,
          100,
          0,
          0,
          0,
          99,
          100,
          84,
          0,
          0,
          0,
          99,
          100,
          98,
          0,
          0,
          0,
          99,
          71,
          100,
          0,
          0,
          0,
          0,
          0,
          48,
          100,
          99,
          99,
          73,
          99,
          0,
          0,
          0,
          0,
          98,
          82,
          0,
          0,
          99,
          0,
          0,
          0,
          0,
          0,
          0,
          89,
          0,
          0,
          0,
          0,
          0,
          99,
          100,
          96,
          0,
          98,
          0,
          93,
          0
         ],
         "y": [
          6,
          6,
          6,
          6,
          6,
          1,
          6,
          6,
          2,
          2,
          6,
          2,
          4,
          2,
          0,
          2,
          2,
          6,
          6,
          0,
          2,
          2,
          1,
          6,
          6,
          1,
          6,
          2,
          2,
          0,
          6,
          6,
          6,
          2,
          6,
          4,
          2,
          2,
          6,
          2,
          6,
          1,
          6,
          2,
          2,
          6,
          2,
          2,
          6,
          6,
          2,
          4,
          6,
          6,
          6,
          6,
          2,
          3,
          3,
          2,
          1,
          2,
          6,
          2,
          6,
          5,
          2,
          2,
          6,
          6,
          2,
          6,
          6,
          2,
          0,
          2,
          6,
          1,
          2,
          2,
          2,
          6,
          6,
          6,
          6,
          2,
          6,
          6,
          2,
          2,
          4,
          6,
          6,
          2,
          2,
          6,
          6,
          2,
          2,
          0,
          4,
          6,
          6,
          6,
          6,
          5,
          5,
          6,
          2,
          4,
          6,
          4,
          2,
          2,
          6,
          2,
          1,
          6,
          2,
          1,
          6,
          6,
          6,
          0,
          1,
          5,
          6,
          2,
          0,
          4,
          4,
          1,
          1,
          2,
          6,
          2,
          6,
          2,
          6,
          6,
          6,
          6,
          2,
          6,
          6,
          2,
          2,
          4,
          6,
          5,
          6,
          6,
          6,
          6,
          6,
          6,
          2,
          4,
          2,
          2,
          6,
          2,
          2,
          2,
          6,
          7,
          2,
          4,
          6,
          2,
          1,
          4,
          6,
          0,
          6,
          4,
          2,
          2,
          6,
          0,
          1,
          0,
          6,
          6,
          2,
          2,
          1,
          1,
          6,
          2,
          6,
          2,
          2,
          6,
          6,
          6,
          6,
          2,
          6,
          2,
          2,
          6
         ],
         "z": [
          32.49,
          11.78,
          24.28,
          7.2,
          40.73,
          0,
          15.33,
          17.02,
          13.99,
          12.6,
          9.7,
          14,
          13.97,
          13.99,
          18.18,
          10.65,
          9.9,
          10.3,
          20.79,
          36.22,
          17.26,
          21.75,
          8.11,
          24.82,
          13.92,
          0,
          14.9,
          8.9,
          37.93,
          39.01,
          19.49,
          22.46,
          35.39,
          10.1,
          35.35,
          42.17,
          12.43,
          10.9,
          14.88,
          31.88,
          32.86,
          0,
          13.97,
          35.74,
          9,
          10.17,
          10.46,
          10.7,
          13.89,
          41.18,
          10.6,
          21.47,
          12,
          19.51,
          19.72,
          26.38,
          18.25,
          33.24,
          30.3,
          10.9,
          0,
          32.34,
          21.28,
          8.6,
          11.3,
          31.61,
          38.54,
          13.47,
          9.5,
          29.41,
          8.1,
          16.47,
          24.56,
          36.36,
          35.13,
          19.97,
          24.35,
          0,
          21.6,
          9.6,
          12,
          17.86,
          18.07,
          18.78,
          29.08,
          12.5,
          20.8,
          7.3,
          16.1,
          7.4,
          21.98,
          21.77,
          28.75,
          27.89,
          13.94,
          27.1,
          23.55,
          10,
          17.55,
          26.81,
          33.04,
          18.83,
          9.9,
          10,
          10.3,
          32.66,
          34.12,
          16.75,
          14.2,
          41.54,
          9.2,
          29.03,
          33.69,
          10.2,
          17.6,
          22.82,
          5.9,
          24.13,
          11.73,
          0,
          18.94,
          37.52,
          17.55,
          28.64,
          0,
          19.89,
          9.7,
          11.98,
          20.64,
          46.08,
          37.91,
          0,
          0,
          10.4,
          19.19,
          28.25,
          14,
          18.98,
          27.07,
          20.57,
          17.95,
          20.55,
          10.2,
          8.5,
          9.54,
          6.4,
          10.1,
          9.6,
          11.5,
          31.7,
          12.6,
          12,
          14.24,
          24.38,
          6.8,
          31.54,
          17.8,
          34.52,
          9.2,
          17.1,
          33.41,
          8.8,
          10.6,
          9.4,
          32.44,
          41.75,
          20.51,
          35.01,
          7.9,
          15.83,
          0,
          32.18,
          18.54,
          11.4,
          10,
          23.69,
          30.76,
          10.34,
          29.42,
          33.11,
          0,
          24.3,
          12.94,
          17.56,
          16.03,
          23.83,
          0,
          0,
          38.14,
          8.7,
          10.33,
          11,
          36.7,
          11.6,
          13.86,
          23.3,
          29.6,
          17.88,
          16.75,
          30.45,
          36.19,
          30.68
         ]
        }
       ],
       "layout": {
        "coloraxis": {
         "colorbar": {
          "title": {
           "text": "DBSCAN"
          }
         },
         "colorscale": [
          [
           0,
           "#0d0887"
          ],
          [
           0.1111111111111111,
           "#46039f"
          ],
          [
           0.2222222222222222,
           "#7201a8"
          ],
          [
           0.3333333333333333,
           "#9c179e"
          ],
          [
           0.4444444444444444,
           "#bd3786"
          ],
          [
           0.5555555555555556,
           "#d8576b"
          ],
          [
           0.6666666666666666,
           "#ed7953"
          ],
          [
           0.7777777777777778,
           "#fb9f3a"
          ],
          [
           0.8888888888888888,
           "#fdca26"
          ],
          [
           1,
           "#f0f921"
          ]
         ]
        },
        "legend": {
         "tracegroupgap": 0
        },
        "margin": {
         "t": 60
        },
        "scene": {
         "domain": {
          "x": [
           0,
           1
          ],
          "y": [
           0,
           1
          ]
         },
         "xaxis": {
          "title": {
           "text": "Youth_15_24_Literacy_Rate_Male"
          }
         },
         "yaxis": {
          "title": {
           "text": "Gross_Primary_Education_Enrollment"
          }
         },
         "zaxis": {
          "title": {
           "text": "Birth_Rate"
          }
         }
        },
        "template": {
         "data": {
          "bar": [
           {
            "error_x": {
             "color": "#2a3f5f"
            },
            "error_y": {
             "color": "#2a3f5f"
            },
            "marker": {
             "line": {
              "color": "#E5ECF6",
              "width": 0.5
             },
             "pattern": {
              "fillmode": "overlay",
              "size": 10,
              "solidity": 0.2
             }
            },
            "type": "bar"
           }
          ],
          "barpolar": [
           {
            "marker": {
             "line": {
              "color": "#E5ECF6",
              "width": 0.5
             },
             "pattern": {
              "fillmode": "overlay",
              "size": 10,
              "solidity": 0.2
             }
            },
            "type": "barpolar"
           }
          ],
          "carpet": [
           {
            "aaxis": {
             "endlinecolor": "#2a3f5f",
             "gridcolor": "white",
             "linecolor": "white",
             "minorgridcolor": "white",
             "startlinecolor": "#2a3f5f"
            },
            "baxis": {
             "endlinecolor": "#2a3f5f",
             "gridcolor": "white",
             "linecolor": "white",
             "minorgridcolor": "white",
             "startlinecolor": "#2a3f5f"
            },
            "type": "carpet"
           }
          ],
          "choropleth": [
           {
            "colorbar": {
             "outlinewidth": 0,
             "ticks": ""
            },
            "type": "choropleth"
           }
          ],
          "contour": [
           {
            "colorbar": {
             "outlinewidth": 0,
             "ticks": ""
            },
            "colorscale": [
             [
              0,
              "#0d0887"
             ],
             [
              0.1111111111111111,
              "#46039f"
             ],
             [
              0.2222222222222222,
              "#7201a8"
             ],
             [
              0.3333333333333333,
              "#9c179e"
             ],
             [
              0.4444444444444444,
              "#bd3786"
             ],
             [
              0.5555555555555556,
              "#d8576b"
             ],
             [
              0.6666666666666666,
              "#ed7953"
             ],
             [
              0.7777777777777778,
              "#fb9f3a"
             ],
             [
              0.8888888888888888,
              "#fdca26"
             ],
             [
              1,
              "#f0f921"
             ]
            ],
            "type": "contour"
           }
          ],
          "contourcarpet": [
           {
            "colorbar": {
             "outlinewidth": 0,
             "ticks": ""
            },
            "type": "contourcarpet"
           }
          ],
          "heatmap": [
           {
            "colorbar": {
             "outlinewidth": 0,
             "ticks": ""
            },
            "colorscale": [
             [
              0,
              "#0d0887"
             ],
             [
              0.1111111111111111,
              "#46039f"
             ],
             [
              0.2222222222222222,
              "#7201a8"
             ],
             [
              0.3333333333333333,
              "#9c179e"
             ],
             [
              0.4444444444444444,
              "#bd3786"
             ],
             [
              0.5555555555555556,
              "#d8576b"
             ],
             [
              0.6666666666666666,
              "#ed7953"
             ],
             [
              0.7777777777777778,
              "#fb9f3a"
             ],
             [
              0.8888888888888888,
              "#fdca26"
             ],
             [
              1,
              "#f0f921"
             ]
            ],
            "type": "heatmap"
           }
          ],
          "heatmapgl": [
           {
            "colorbar": {
             "outlinewidth": 0,
             "ticks": ""
            },
            "colorscale": [
             [
              0,
              "#0d0887"
             ],
             [
              0.1111111111111111,
              "#46039f"
             ],
             [
              0.2222222222222222,
              "#7201a8"
             ],
             [
              0.3333333333333333,
              "#9c179e"
             ],
             [
              0.4444444444444444,
              "#bd3786"
             ],
             [
              0.5555555555555556,
              "#d8576b"
             ],
             [
              0.6666666666666666,
              "#ed7953"
             ],
             [
              0.7777777777777778,
              "#fb9f3a"
             ],
             [
              0.8888888888888888,
              "#fdca26"
             ],
             [
              1,
              "#f0f921"
             ]
            ],
            "type": "heatmapgl"
           }
          ],
          "histogram": [
           {
            "marker": {
             "pattern": {
              "fillmode": "overlay",
              "size": 10,
              "solidity": 0.2
             }
            },
            "type": "histogram"
           }
          ],
          "histogram2d": [
           {
            "colorbar": {
             "outlinewidth": 0,
             "ticks": ""
            },
            "colorscale": [
             [
              0,
              "#0d0887"
             ],
             [
              0.1111111111111111,
              "#46039f"
             ],
             [
              0.2222222222222222,
              "#7201a8"
             ],
             [
              0.3333333333333333,
              "#9c179e"
             ],
             [
              0.4444444444444444,
              "#bd3786"
             ],
             [
              0.5555555555555556,
              "#d8576b"
             ],
             [
              0.6666666666666666,
              "#ed7953"
             ],
             [
              0.7777777777777778,
              "#fb9f3a"
             ],
             [
              0.8888888888888888,
              "#fdca26"
             ],
             [
              1,
              "#f0f921"
             ]
            ],
            "type": "histogram2d"
           }
          ],
          "histogram2dcontour": [
           {
            "colorbar": {
             "outlinewidth": 0,
             "ticks": ""
            },
            "colorscale": [
             [
              0,
              "#0d0887"
             ],
             [
              0.1111111111111111,
              "#46039f"
             ],
             [
              0.2222222222222222,
              "#7201a8"
             ],
             [
              0.3333333333333333,
              "#9c179e"
             ],
             [
              0.4444444444444444,
              "#bd3786"
             ],
             [
              0.5555555555555556,
              "#d8576b"
             ],
             [
              0.6666666666666666,
              "#ed7953"
             ],
             [
              0.7777777777777778,
              "#fb9f3a"
             ],
             [
              0.8888888888888888,
              "#fdca26"
             ],
             [
              1,
              "#f0f921"
             ]
            ],
            "type": "histogram2dcontour"
           }
          ],
          "mesh3d": [
           {
            "colorbar": {
             "outlinewidth": 0,
             "ticks": ""
            },
            "type": "mesh3d"
           }
          ],
          "parcoords": [
           {
            "line": {
             "colorbar": {
              "outlinewidth": 0,
              "ticks": ""
             }
            },
            "type": "parcoords"
           }
          ],
          "pie": [
           {
            "automargin": true,
            "type": "pie"
           }
          ],
          "scatter": [
           {
            "marker": {
             "colorbar": {
              "outlinewidth": 0,
              "ticks": ""
             }
            },
            "type": "scatter"
           }
          ],
          "scatter3d": [
           {
            "line": {
             "colorbar": {
              "outlinewidth": 0,
              "ticks": ""
             }
            },
            "marker": {
             "colorbar": {
              "outlinewidth": 0,
              "ticks": ""
             }
            },
            "type": "scatter3d"
           }
          ],
          "scattercarpet": [
           {
            "marker": {
             "colorbar": {
              "outlinewidth": 0,
              "ticks": ""
             }
            },
            "type": "scattercarpet"
           }
          ],
          "scattergeo": [
           {
            "marker": {
             "colorbar": {
              "outlinewidth": 0,
              "ticks": ""
             }
            },
            "type": "scattergeo"
           }
          ],
          "scattergl": [
           {
            "marker": {
             "colorbar": {
              "outlinewidth": 0,
              "ticks": ""
             }
            },
            "type": "scattergl"
           }
          ],
          "scattermapbox": [
           {
            "marker": {
             "colorbar": {
              "outlinewidth": 0,
              "ticks": ""
             }
            },
            "type": "scattermapbox"
           }
          ],
          "scatterpolar": [
           {
            "marker": {
             "colorbar": {
              "outlinewidth": 0,
              "ticks": ""
             }
            },
            "type": "scatterpolar"
           }
          ],
          "scatterpolargl": [
           {
            "marker": {
             "colorbar": {
              "outlinewidth": 0,
              "ticks": ""
             }
            },
            "type": "scatterpolargl"
           }
          ],
          "scatterternary": [
           {
            "marker": {
             "colorbar": {
              "outlinewidth": 0,
              "ticks": ""
             }
            },
            "type": "scatterternary"
           }
          ],
          "surface": [
           {
            "colorbar": {
             "outlinewidth": 0,
             "ticks": ""
            },
            "colorscale": [
             [
              0,
              "#0d0887"
             ],
             [
              0.1111111111111111,
              "#46039f"
             ],
             [
              0.2222222222222222,
              "#7201a8"
             ],
             [
              0.3333333333333333,
              "#9c179e"
             ],
             [
              0.4444444444444444,
              "#bd3786"
             ],
             [
              0.5555555555555556,
              "#d8576b"
             ],
             [
              0.6666666666666666,
              "#ed7953"
             ],
             [
              0.7777777777777778,
              "#fb9f3a"
             ],
             [
              0.8888888888888888,
              "#fdca26"
             ],
             [
              1,
              "#f0f921"
             ]
            ],
            "type": "surface"
           }
          ],
          "table": [
           {
            "cells": {
             "fill": {
              "color": "#EBF0F8"
             },
             "line": {
              "color": "white"
             }
            },
            "header": {
             "fill": {
              "color": "#C8D4E3"
             },
             "line": {
              "color": "white"
             }
            },
            "type": "table"
           }
          ]
         },
         "layout": {
          "annotationdefaults": {
           "arrowcolor": "#2a3f5f",
           "arrowhead": 0,
           "arrowwidth": 1
          },
          "autotypenumbers": "strict",
          "coloraxis": {
           "colorbar": {
            "outlinewidth": 0,
            "ticks": ""
           }
          },
          "colorscale": {
           "diverging": [
            [
             0,
             "#8e0152"
            ],
            [
             0.1,
             "#c51b7d"
            ],
            [
             0.2,
             "#de77ae"
            ],
            [
             0.3,
             "#f1b6da"
            ],
            [
             0.4,
             "#fde0ef"
            ],
            [
             0.5,
             "#f7f7f7"
            ],
            [
             0.6,
             "#e6f5d0"
            ],
            [
             0.7,
             "#b8e186"
            ],
            [
             0.8,
             "#7fbc41"
            ],
            [
             0.9,
             "#4d9221"
            ],
            [
             1,
             "#276419"
            ]
           ],
           "sequential": [
            [
             0,
             "#0d0887"
            ],
            [
             0.1111111111111111,
             "#46039f"
            ],
            [
             0.2222222222222222,
             "#7201a8"
            ],
            [
             0.3333333333333333,
             "#9c179e"
            ],
            [
             0.4444444444444444,
             "#bd3786"
            ],
            [
             0.5555555555555556,
             "#d8576b"
            ],
            [
             0.6666666666666666,
             "#ed7953"
            ],
            [
             0.7777777777777778,
             "#fb9f3a"
            ],
            [
             0.8888888888888888,
             "#fdca26"
            ],
            [
             1,
             "#f0f921"
            ]
           ],
           "sequentialminus": [
            [
             0,
             "#0d0887"
            ],
            [
             0.1111111111111111,
             "#46039f"
            ],
            [
             0.2222222222222222,
             "#7201a8"
            ],
            [
             0.3333333333333333,
             "#9c179e"
            ],
            [
             0.4444444444444444,
             "#bd3786"
            ],
            [
             0.5555555555555556,
             "#d8576b"
            ],
            [
             0.6666666666666666,
             "#ed7953"
            ],
            [
             0.7777777777777778,
             "#fb9f3a"
            ],
            [
             0.8888888888888888,
             "#fdca26"
            ],
            [
             1,
             "#f0f921"
            ]
           ]
          },
          "colorway": [
           "#636efa",
           "#EF553B",
           "#00cc96",
           "#ab63fa",
           "#FFA15A",
           "#19d3f3",
           "#FF6692",
           "#B6E880",
           "#FF97FF",
           "#FECB52"
          ],
          "font": {
           "color": "#2a3f5f"
          },
          "geo": {
           "bgcolor": "white",
           "lakecolor": "white",
           "landcolor": "#E5ECF6",
           "showlakes": true,
           "showland": true,
           "subunitcolor": "white"
          },
          "hoverlabel": {
           "align": "left"
          },
          "hovermode": "closest",
          "mapbox": {
           "style": "light"
          },
          "paper_bgcolor": "white",
          "plot_bgcolor": "#E5ECF6",
          "polar": {
           "angularaxis": {
            "gridcolor": "white",
            "linecolor": "white",
            "ticks": ""
           },
           "bgcolor": "#E5ECF6",
           "radialaxis": {
            "gridcolor": "white",
            "linecolor": "white",
            "ticks": ""
           }
          },
          "scene": {
           "xaxis": {
            "backgroundcolor": "#E5ECF6",
            "gridcolor": "white",
            "gridwidth": 2,
            "linecolor": "white",
            "showbackground": true,
            "ticks": "",
            "zerolinecolor": "white"
           },
           "yaxis": {
            "backgroundcolor": "#E5ECF6",
            "gridcolor": "white",
            "gridwidth": 2,
            "linecolor": "white",
            "showbackground": true,
            "ticks": "",
            "zerolinecolor": "white"
           },
           "zaxis": {
            "backgroundcolor": "#E5ECF6",
            "gridcolor": "white",
            "gridwidth": 2,
            "linecolor": "white",
            "showbackground": true,
            "ticks": "",
            "zerolinecolor": "white"
           }
          },
          "shapedefaults": {
           "line": {
            "color": "#2a3f5f"
           }
          },
          "ternary": {
           "aaxis": {
            "gridcolor": "white",
            "linecolor": "white",
            "ticks": ""
           },
           "baxis": {
            "gridcolor": "white",
            "linecolor": "white",
            "ticks": ""
           },
           "bgcolor": "#E5ECF6",
           "caxis": {
            "gridcolor": "white",
            "linecolor": "white",
            "ticks": ""
           }
          },
          "title": {
           "x": 0.05
          },
          "xaxis": {
           "automargin": true,
           "gridcolor": "white",
           "linecolor": "white",
           "ticks": "",
           "title": {
            "standoff": 15
           },
           "zerolinecolor": "white",
           "zerolinewidth": 2
          },
          "yaxis": {
           "automargin": true,
           "gridcolor": "white",
           "linecolor": "white",
           "ticks": "",
           "title": {
            "standoff": 15
           },
           "zerolinecolor": "white",
           "zerolinewidth": 2
          }
         }
        }
       }
      }
     },
     "metadata": {},
     "output_type": "display_data"
    }
   ],
   "source": [
    "fig = px.scatter_3d(df, x='Youth_15_24_Literacy_Rate_Male', y='Gross_Primary_Education_Enrollment', z='Birth_Rate',\n",
    "              color='DBSCAN')\n",
    "fig.show()"
   ]
  },
  {
   "cell_type": "markdown",
   "metadata": {},
   "source": [
    "# Hierarchical "
   ]
  },
  {
   "cell_type": "code",
   "execution_count": 23,
   "metadata": {},
   "outputs": [],
   "source": [
    "from sklearn.cluster import AgglomerativeClustering"
   ]
  },
  {
   "cell_type": "code",
   "execution_count": 24,
   "metadata": {},
   "outputs": [
    {
     "data": {
      "image/png": "[encoded data removed]",
      "text/plain": [
       "<Figure size 432x288 with 1 Axes>"
      ]
     },
     "metadata": {
      "needs_background": "light"
     },
     "output_type": "display_data"
    },
    {
     "name": "stdout",
     "output_type": "stream",
     "text": [
      "Jumlah Cluster Terbaik (Silhouette): 2 with a silhouette score of 0.27791813960740464\n"
     ]
    }
   ],
   "source": [
    "# Silhouette Analysis: Menghitung skor silhouette untuk jumlah klaster yang berbeda\n",
    "silhouette_scores = []\n",
    "for n_clusters in range(2, 11):\n",
    "    agglomerative = AgglomerativeClustering(n_clusters=n_clusters)\n",
    "    cluster_labels = agglomerative.fit_predict(df_clustering_inputlist)\n",
    "    silhouette_avg = silhouette_score(df_clustering_inputlist, cluster_labels)\n",
    "    silhouette_scores.append(silhouette_avg)\n",
    "\n",
    "# Menampilkan plot silhouette scores\n",
    "plt.plot(range(2, 11), silhouette_scores, marker='o')\n",
    "plt.xlabel('Jumlah Cluster')\n",
    "plt.ylabel('Silhouette Score')\n",
    "plt.title('Silhouette Analysis - AgglomerativeClustering')\n",
    "plt.show()\n",
    "\n",
    "# Menemukan jumlah cluster terbaik berdasarkan skor silhouette\n",
    "best_cluster_index = np.argmax(silhouette_scores)\n",
    "best_cluster_count = best_cluster_index + 2  # Karena iterasi dimulai dari 2\n",
    "\n",
    "print(f\"Jumlah Cluster Terbaik (Silhouette): {best_cluster_count} with a silhouette score of {np.max(silhouette_scores)}\" )\n",
    "Hierarchical_sihlouette_score = np.max(silhouette_scores)"
   ]
  },
  {
   "cell_type": "code",
   "execution_count": 25,
   "metadata": {},
   "outputs": [],
   "source": [
    "# Melakukan hierarchical clustering dengan AgglomerativeClustering\n",
    "agglomerative_model = AgglomerativeClustering(n_clusters=best_n_clusters)  # Sesuaikan parameter sesuai kebutuhan\n",
    "df['Hierarchical'] = agglomerative_model.fit_predict(df_clustering_inputlist)"
   ]
  },
  {
   "cell_type": "code",
   "execution_count": 26,
   "metadata": {},
   "outputs": [
    {
     "data": {
      "text/html": [
       "<div>\n",
       "<style scoped>\n",
       "    .dataframe tbody tr th:only-of-type {\n",
       "        vertical-align: middle;\n",
       "    }\n",
       "\n",
       "    .dataframe tbody tr th {\n",
       "        vertical-align: top;\n",
       "    }\n",
       "\n",
       "    .dataframe thead th {\n",
       "        text-align: right;\n",
       "    }\n",
       "</style>\n",
       "<table border=\"1\" class=\"dataframe\">\n",
       "  <thead>\n",
       "    <tr style=\"text-align: right;\">\n",
       "      <th></th>\n",
       "      <th>Latitude</th>\n",
       "      <th>Longitude</th>\n",
       "      <th>OOSR_Pre0Primary_Age_Male</th>\n",
       "      <th>OOSR_Pre0Primary_Age_Female</th>\n",
       "      <th>OOSR_Primary_Age_Male</th>\n",
       "      <th>OOSR_Primary_Age_Female</th>\n",
       "      <th>OOSR_Lower_Secondary_Age_Male</th>\n",
       "      <th>OOSR_Lower_Secondary_Age_Female</th>\n",
       "      <th>OOSR_Upper_Secondary_Age_Male</th>\n",
       "      <th>OOSR_Upper_Secondary_Age_Female</th>\n",
       "      <th>...</th>\n",
       "      <th>Lower_Secondary_End_Proficiency_Math</th>\n",
       "      <th>Youth_15_24_Literacy_Rate_Male</th>\n",
       "      <th>Youth_15_24_Literacy_Rate_Female</th>\n",
       "      <th>Birth_Rate</th>\n",
       "      <th>Gross_Primary_Education_Enrollment</th>\n",
       "      <th>Gross_Tertiary_Education_Enrollment</th>\n",
       "      <th>Unemployment_Rate</th>\n",
       "      <th>KMeans</th>\n",
       "      <th>DBSCAN</th>\n",
       "      <th>Hierarchical</th>\n",
       "    </tr>\n",
       "  </thead>\n",
       "  <tbody>\n",
       "    <tr>\n",
       "      <th>0</th>\n",
       "      <td>33.939110</td>\n",
       "      <td>67.709953</td>\n",
       "      <td>0</td>\n",
       "      <td>0</td>\n",
       "      <td>0</td>\n",
       "      <td>0</td>\n",
       "      <td>0</td>\n",
       "      <td>0</td>\n",
       "      <td>44</td>\n",
       "      <td>69</td>\n",
       "      <td>...</td>\n",
       "      <td>0</td>\n",
       "      <td>74</td>\n",
       "      <td>56</td>\n",
       "      <td>32.49</td>\n",
       "      <td>6</td>\n",
       "      <td>1</td>\n",
       "      <td>5</td>\n",
       "      <td>2</td>\n",
       "      <td>-1</td>\n",
       "      <td>0</td>\n",
       "    </tr>\n",
       "    <tr>\n",
       "      <th>1</th>\n",
       "      <td>41.153332</td>\n",
       "      <td>20.168331</td>\n",
       "      <td>4</td>\n",
       "      <td>2</td>\n",
       "      <td>6</td>\n",
       "      <td>3</td>\n",
       "      <td>6</td>\n",
       "      <td>1</td>\n",
       "      <td>21</td>\n",
       "      <td>15</td>\n",
       "      <td>...</td>\n",
       "      <td>58</td>\n",
       "      <td>99</td>\n",
       "      <td>100</td>\n",
       "      <td>11.78</td>\n",
       "      <td>6</td>\n",
       "      <td>6</td>\n",
       "      <td>3</td>\n",
       "      <td>2</td>\n",
       "      <td>-1</td>\n",
       "      <td>1</td>\n",
       "    </tr>\n",
       "    <tr>\n",
       "      <th>2</th>\n",
       "      <td>28.033886</td>\n",
       "      <td>1.659626</td>\n",
       "      <td>0</td>\n",
       "      <td>0</td>\n",
       "      <td>0</td>\n",
       "      <td>0</td>\n",
       "      <td>0</td>\n",
       "      <td>0</td>\n",
       "      <td>0</td>\n",
       "      <td>0</td>\n",
       "      <td>...</td>\n",
       "      <td>19</td>\n",
       "      <td>98</td>\n",
       "      <td>97</td>\n",
       "      <td>24.28</td>\n",
       "      <td>6</td>\n",
       "      <td>6</td>\n",
       "      <td>5</td>\n",
       "      <td>2</td>\n",
       "      <td>-1</td>\n",
       "      <td>1</td>\n",
       "    </tr>\n",
       "    <tr>\n",
       "      <th>3</th>\n",
       "      <td>42.506285</td>\n",
       "      <td>1.521801</td>\n",
       "      <td>0</td>\n",
       "      <td>0</td>\n",
       "      <td>0</td>\n",
       "      <td>0</td>\n",
       "      <td>0</td>\n",
       "      <td>0</td>\n",
       "      <td>0</td>\n",
       "      <td>0</td>\n",
       "      <td>...</td>\n",
       "      <td>0</td>\n",
       "      <td>0</td>\n",
       "      <td>0</td>\n",
       "      <td>7.20</td>\n",
       "      <td>6</td>\n",
       "      <td>1</td>\n",
       "      <td>0</td>\n",
       "      <td>6</td>\n",
       "      <td>0</td>\n",
       "      <td>0</td>\n",
       "    </tr>\n",
       "    <tr>\n",
       "      <th>4</th>\n",
       "      <td>11.202692</td>\n",
       "      <td>17.873887</td>\n",
       "      <td>31</td>\n",
       "      <td>39</td>\n",
       "      <td>0</td>\n",
       "      <td>0</td>\n",
       "      <td>0</td>\n",
       "      <td>0</td>\n",
       "      <td>0</td>\n",
       "      <td>0</td>\n",
       "      <td>...</td>\n",
       "      <td>0</td>\n",
       "      <td>0</td>\n",
       "      <td>0</td>\n",
       "      <td>40.73</td>\n",
       "      <td>6</td>\n",
       "      <td>1</td>\n",
       "      <td>2</td>\n",
       "      <td>6</td>\n",
       "      <td>-1</td>\n",
       "      <td>0</td>\n",
       "    </tr>\n",
       "    <tr>\n",
       "      <th>...</th>\n",
       "      <td>...</td>\n",
       "      <td>...</td>\n",
       "      <td>...</td>\n",
       "      <td>...</td>\n",
       "      <td>...</td>\n",
       "      <td>...</td>\n",
       "      <td>...</td>\n",
       "      <td>...</td>\n",
       "      <td>...</td>\n",
       "      <td>...</td>\n",
       "      <td>...</td>\n",
       "      <td>...</td>\n",
       "      <td>...</td>\n",
       "      <td>...</td>\n",
       "      <td>...</td>\n",
       "      <td>...</td>\n",
       "      <td>...</td>\n",
       "      <td>...</td>\n",
       "      <td>...</td>\n",
       "      <td>...</td>\n",
       "      <td>...</td>\n",
       "    </tr>\n",
       "    <tr>\n",
       "      <th>197</th>\n",
       "      <td>6.423750</td>\n",
       "      <td>66.589730</td>\n",
       "      <td>14</td>\n",
       "      <td>14</td>\n",
       "      <td>10</td>\n",
       "      <td>10</td>\n",
       "      <td>15</td>\n",
       "      <td>13</td>\n",
       "      <td>28</td>\n",
       "      <td>19</td>\n",
       "      <td>...</td>\n",
       "      <td>0</td>\n",
       "      <td>0</td>\n",
       "      <td>0</td>\n",
       "      <td>17.88</td>\n",
       "      <td>2</td>\n",
       "      <td>5</td>\n",
       "      <td>2</td>\n",
       "      <td>6</td>\n",
       "      <td>-1</td>\n",
       "      <td>0</td>\n",
       "    </tr>\n",
       "    <tr>\n",
       "      <th>198</th>\n",
       "      <td>14.058324</td>\n",
       "      <td>108.277199</td>\n",
       "      <td>0</td>\n",
       "      <td>0</td>\n",
       "      <td>0</td>\n",
       "      <td>0</td>\n",
       "      <td>0</td>\n",
       "      <td>0</td>\n",
       "      <td>0</td>\n",
       "      <td>0</td>\n",
       "      <td>...</td>\n",
       "      <td>81</td>\n",
       "      <td>98</td>\n",
       "      <td>98</td>\n",
       "      <td>16.75</td>\n",
       "      <td>6</td>\n",
       "      <td>3</td>\n",
       "      <td>0</td>\n",
       "      <td>5</td>\n",
       "      <td>-1</td>\n",
       "      <td>3</td>\n",
       "    </tr>\n",
       "    <tr>\n",
       "      <th>199</th>\n",
       "      <td>15.552727</td>\n",
       "      <td>48.516388</td>\n",
       "      <td>96</td>\n",
       "      <td>96</td>\n",
       "      <td>10</td>\n",
       "      <td>21</td>\n",
       "      <td>23</td>\n",
       "      <td>34</td>\n",
       "      <td>46</td>\n",
       "      <td>68</td>\n",
       "      <td>...</td>\n",
       "      <td>0</td>\n",
       "      <td>0</td>\n",
       "      <td>0</td>\n",
       "      <td>30.45</td>\n",
       "      <td>2</td>\n",
       "      <td>1</td>\n",
       "      <td>3</td>\n",
       "      <td>0</td>\n",
       "      <td>-1</td>\n",
       "      <td>0</td>\n",
       "    </tr>\n",
       "    <tr>\n",
       "      <th>200</th>\n",
       "      <td>13.133897</td>\n",
       "      <td>27.849332</td>\n",
       "      <td>0</td>\n",
       "      <td>0</td>\n",
       "      <td>17</td>\n",
       "      <td>13</td>\n",
       "      <td>0</td>\n",
       "      <td>0</td>\n",
       "      <td>0</td>\n",
       "      <td>0</td>\n",
       "      <td>...</td>\n",
       "      <td>2</td>\n",
       "      <td>93</td>\n",
       "      <td>92</td>\n",
       "      <td>36.19</td>\n",
       "      <td>2</td>\n",
       "      <td>1</td>\n",
       "      <td>5</td>\n",
       "      <td>2</td>\n",
       "      <td>-1</td>\n",
       "      <td>1</td>\n",
       "    </tr>\n",
       "    <tr>\n",
       "      <th>201</th>\n",
       "      <td>19.015438</td>\n",
       "      <td>29.154857</td>\n",
       "      <td>60</td>\n",
       "      <td>58</td>\n",
       "      <td>0</td>\n",
       "      <td>0</td>\n",
       "      <td>0</td>\n",
       "      <td>0</td>\n",
       "      <td>45</td>\n",
       "      <td>50</td>\n",
       "      <td>...</td>\n",
       "      <td>0</td>\n",
       "      <td>0</td>\n",
       "      <td>0</td>\n",
       "      <td>30.68</td>\n",
       "      <td>6</td>\n",
       "      <td>1</td>\n",
       "      <td>8</td>\n",
       "      <td>6</td>\n",
       "      <td>-1</td>\n",
       "      <td>0</td>\n",
       "    </tr>\n",
       "  </tbody>\n",
       "</table>\n",
       "<p>202 rows × 31 columns</p>\n",
       "</div>"
      ],
      "text/plain": [
       "     Latitude    Longitude  OOSR_Pre0Primary_Age_Male  \\\n",
       "0    33.939110   67.709953                          0   \n",
       "1    41.153332   20.168331                          4   \n",
       "2    28.033886    1.659626                          0   \n",
       "3    42.506285    1.521801                          0   \n",
       "4    11.202692   17.873887                         31   \n",
       "..         ...         ...                        ...   \n",
       "197   6.423750   66.589730                         14   \n",
       "198  14.058324  108.277199                          0   \n",
       "199  15.552727   48.516388                         96   \n",
       "200  13.133897   27.849332                          0   \n",
       "201  19.015438   29.154857                         60   \n",
       "\n",
       "     OOSR_Pre0Primary_Age_Female  OOSR_Primary_Age_Male  \\\n",
       "0                              0                      0   \n",
       "1                              2                      6   \n",
       "2                              0                      0   \n",
       "3                              0                      0   \n",
       "4                             39                      0   \n",
       "..                           ...                    ...   \n",
       "197                           14                     10   \n",
       "198                            0                      0   \n",
       "199                           96                     10   \n",
       "200                            0                     17   \n",
       "201                           58                      0   \n",
       "\n",
       "     OOSR_Primary_Age_Female  OOSR_Lower_Secondary_Age_Male  \\\n",
       "0                          0                              0   \n",
       "1                          3                              6   \n",
       "2                          0                              0   \n",
       "3                          0                              0   \n",
       "4                          0                              0   \n",
       "..                       ...                            ...   \n",
       "197                       10                             15   \n",
       "198                        0                              0   \n",
       "199                       21                             23   \n",
       "200                       13                              0   \n",
       "201                        0                              0   \n",
       "\n",
       "     OOSR_Lower_Secondary_Age_Female  OOSR_Upper_Secondary_Age_Male  \\\n",
       "0                                  0                             44   \n",
       "1                                  1                             21   \n",
       "2                                  0                              0   \n",
       "3                                  0                              0   \n",
       "4                                  0                              0   \n",
       "..                               ...                            ...   \n",
       "197                               13                             28   \n",
       "198                                0                              0   \n",
       "199                               34                             46   \n",
       "200                                0                              0   \n",
       "201                                0                             45   \n",
       "\n",
       "     OOSR_Upper_Secondary_Age_Female  ...  \\\n",
       "0                                 69  ...   \n",
       "1                                 15  ...   \n",
       "2                                  0  ...   \n",
       "3                                  0  ...   \n",
       "4                                  0  ...   \n",
       "..                               ...  ...   \n",
       "197                               19  ...   \n",
       "198                                0  ...   \n",
       "199                               68  ...   \n",
       "200                                0  ...   \n",
       "201                               50  ...   \n",
       "\n",
       "     Lower_Secondary_End_Proficiency_Math  Youth_15_24_Literacy_Rate_Male  \\\n",
       "0                                       0                              74   \n",
       "1                                      58                              99   \n",
       "2                                      19                              98   \n",
       "3                                       0                               0   \n",
       "4                                       0                               0   \n",
       "..                                    ...                             ...   \n",
       "197                                     0                               0   \n",
       "198                                    81                              98   \n",
       "199                                     0                               0   \n",
       "200                                     2                              93   \n",
       "201                                     0                               0   \n",
       "\n",
       "     Youth_15_24_Literacy_Rate_Female  Birth_Rate  \\\n",
       "0                                  56       32.49   \n",
       "1                                 100       11.78   \n",
       "2                                  97       24.28   \n",
       "3                                   0        7.20   \n",
       "4                                   0       40.73   \n",
       "..                                ...         ...   \n",
       "197                                 0       17.88   \n",
       "198                                98       16.75   \n",
       "199                                 0       30.45   \n",
       "200                                92       36.19   \n",
       "201                                 0       30.68   \n",
       "\n",
       "     Gross_Primary_Education_Enrollment  Gross_Tertiary_Education_Enrollment  \\\n",
       "0                                     6                                    1   \n",
       "1                                     6                                    6   \n",
       "2                                     6                                    6   \n",
       "3                                     6                                    1   \n",
       "4                                     6                                    1   \n",
       "..                                  ...                                  ...   \n",
       "197                                   2                                    5   \n",
       "198                                   6                                    3   \n",
       "199                                   2                                    1   \n",
       "200                                   2                                    1   \n",
       "201                                   6                                    1   \n",
       "\n",
       "     Unemployment_Rate  KMeans  DBSCAN  Hierarchical  \n",
       "0                    5       2      -1             0  \n",
       "1                    3       2      -1             1  \n",
       "2                    5       2      -1             1  \n",
       "3                    0       6       0             0  \n",
       "4                    2       6      -1             0  \n",
       "..                 ...     ...     ...           ...  \n",
       "197                  2       6      -1             0  \n",
       "198                  0       5      -1             3  \n",
       "199                  3       0      -1             0  \n",
       "200                  5       2      -1             1  \n",
       "201                  8       6      -1             0  \n",
       "\n",
       "[202 rows x 31 columns]"
      ]
     },
     "execution_count": 26,
     "metadata": {},
     "output_type": "execute_result"
    }
   ],
   "source": [
    "df"
   ]
  },
  {
   "cell_type": "code",
   "execution_count": 27,
   "metadata": {},
   "outputs": [
    {
     "data": {
      "image/png": "[encoded data removed]",
      "text/plain": [
       "<Figure size 720x576 with 2 Axes>"
      ]
     },
     "metadata": {
      "needs_background": "light"
     },
     "output_type": "display_data"
    }
   ],
   "source": [
    "# Create a 3D plot\n",
    "fig = plt.figure(figsize=(10, 8))\n",
    "ax = fig.add_subplot(111, projection='3d')\n",
    "\n",
    "# Scatter plot with colors based on 'k_means' column\n",
    "scatter = ax.scatter(df_clustering_inputlist['Youth_15_24_Literacy_Rate_Male'], df_clustering_inputlist['Gross_Primary_Education_Enrollment'], df_clustering_inputlist['Birth_Rate'], c=df['Hierarchical'], cmap='viridis')\n",
    "\n",
    "# Add color bar\n",
    "color_bar = fig.colorbar(scatter, ax=ax)\n",
    "color_bar.set_label('Hierarchical')\n",
    "\n",
    "# Set axis labels\n",
    "ax.set_xlabel('Youth_15_24_Literacy_Rate_Male')\n",
    "ax.set_ylabel('Gross_Primary_Education_Enrollment')\n",
    "ax.set_zlabel('Birth_Rate')\n",
    "\n",
    "# Show the plot\n",
    "plt.show()"
   ]
  },
  {
   "cell_type": "markdown",
   "metadata": {},
   "source": [
    "# D)"
   ]
  },
  {
   "cell_type": "code",
   "execution_count": 28,
   "metadata": {},
   "outputs": [],
   "source": [
    "Model = ['KMeans','DBSCAN','Hierarchical']\n",
    "\n",
    "model_silhouette_score = [kmeans_sihlouette_score,DBSCAN_sihlouette_score,Hierarchical_sihlouette_score]"
   ]
  },
  {
   "cell_type": "code",
   "execution_count": 29,
   "metadata": {},
   "outputs": [
    {
     "data": {
      "text/html": [
       "<div>\n",
       "<style scoped>\n",
       "    .dataframe tbody tr th:only-of-type {\n",
       "        vertical-align: middle;\n",
       "    }\n",
       "\n",
       "    .dataframe tbody tr th {\n",
       "        vertical-align: top;\n",
       "    }\n",
       "\n",
       "    .dataframe thead th {\n",
       "        text-align: right;\n",
       "    }\n",
       "</style>\n",
       "<table border=\"1\" class=\"dataframe\">\n",
       "  <thead>\n",
       "    <tr style=\"text-align: right;\">\n",
       "      <th></th>\n",
       "      <th>0</th>\n",
       "      <th>1</th>\n",
       "      <th>2</th>\n",
       "    </tr>\n",
       "  </thead>\n",
       "  <tbody>\n",
       "    <tr>\n",
       "      <th>Model</th>\n",
       "      <td>KMeans</td>\n",
       "      <td>DBSCAN</td>\n",
       "      <td>Hierarchical</td>\n",
       "    </tr>\n",
       "    <tr>\n",
       "      <th>Model Silhouette Score</th>\n",
       "      <td>0.284095</td>\n",
       "      <td>-0.149372</td>\n",
       "      <td>0.277918</td>\n",
       "    </tr>\n",
       "  </tbody>\n",
       "</table>\n",
       "</div>"
      ],
      "text/plain": [
       "                               0         1             2\n",
       "Model                     KMeans    DBSCAN  Hierarchical\n",
       "Model Silhouette Score  0.284095 -0.149372      0.277918"
      ]
     },
     "execution_count": 29,
     "metadata": {},
     "output_type": "execute_result"
    }
   ],
   "source": [
    "classification_df = pd.DataFrame({\"Model\":Model,\"Model Silhouette Score\":model_silhouette_score}).T\n",
    "\n",
    "classification_df"
   ]
  },
  {
   "cell_type": "markdown",
   "metadata": {},
   "source": [
    "**Based on the 3 models, the best performing model for this dataset is the KMeans Clustering with a silhouette score of 0.284095 and the worst performing model is DBSCAN with a silhouette score of -0.149372**"
   ]
  }
 ],
 "metadata": {
  "kernelspec": {
   "display_name": "base",
   "language": "python",
   "name": "python3"
  },
  "language_info": {
   "codemirror_mode": {
    "name": "ipython",
    "version": 3
   },
   "file_extension": ".py",
   "mimetype": "text/x-python",
   "name": "python",
   "nbconvert_exporter": "python",
   "pygments_lexer": "ipython3",
   "version": "3.9.12"
  }
 },
 "nbformat": 4,
 "nbformat_minor": 2
}
